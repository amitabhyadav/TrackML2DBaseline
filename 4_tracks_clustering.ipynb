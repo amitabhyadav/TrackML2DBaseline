{
 "cells": [
  {
   "cell_type": "code",
   "execution_count": 1,
   "metadata": {
    "collapsed": false
   },
   "outputs": [],
   "source": [
    "%matplotlib inline\n",
    "import matplotlib.pyplot as plt\n",
    "\n",
    "import pandas\n",
    "import numpy"
   ]
  },
  {
   "cell_type": "markdown",
   "metadata": {},
   "source": [
    "# Input data"
   ]
  },
  {
   "cell_type": "code",
   "execution_count": 2,
   "metadata": {
    "collapsed": false
   },
   "outputs": [
    {
     "data": {
      "text/html": [
       "<div>\n",
       "<table border=\"1\" class=\"dataframe\">\n",
       "  <thead>\n",
       "    <tr style=\"text-align: right;\">\n",
       "      <th></th>\n",
       "      <th>event</th>\n",
       "      <th>particle</th>\n",
       "      <th>layer</th>\n",
       "      <th>iphi</th>\n",
       "      <th>x</th>\n",
       "      <th>y</th>\n",
       "    </tr>\n",
       "  </thead>\n",
       "  <tbody>\n",
       "    <tr>\n",
       "      <th>0</th>\n",
       "      <td>0</td>\n",
       "      <td>0</td>\n",
       "      <td>5</td>\n",
       "      <td>39276</td>\n",
       "      <td>55.103343</td>\n",
       "      <td>-401.233874</td>\n",
       "    </tr>\n",
       "    <tr>\n",
       "      <th>1</th>\n",
       "      <td>0</td>\n",
       "      <td>6</td>\n",
       "      <td>5</td>\n",
       "      <td>22685</td>\n",
       "      <td>-381.682239</td>\n",
       "      <td>135.438799</td>\n",
       "    </tr>\n",
       "    <tr>\n",
       "      <th>2</th>\n",
       "      <td>0</td>\n",
       "      <td>3</td>\n",
       "      <td>3</td>\n",
       "      <td>6082</td>\n",
       "      <td>160.995866</td>\n",
       "      <td>139.460859</td>\n",
       "    </tr>\n",
       "    <tr>\n",
       "      <th>3</th>\n",
       "      <td>0</td>\n",
       "      <td>5</td>\n",
       "      <td>2</td>\n",
       "      <td>27787</td>\n",
       "      <td>-35.433651</td>\n",
       "      <td>-150.895515</td>\n",
       "    </tr>\n",
       "    <tr>\n",
       "      <th>4</th>\n",
       "      <td>0</td>\n",
       "      <td>5</td>\n",
       "      <td>1</td>\n",
       "      <td>15230</td>\n",
       "      <td>-19.627350</td>\n",
       "      <td>-82.702885</td>\n",
       "    </tr>\n",
       "  </tbody>\n",
       "</table>\n",
       "</div>"
      ],
      "text/plain": [
       "   event  particle  layer   iphi           x           y\n",
       "0      0         0      5  39276   55.103343 -401.233874\n",
       "1      0         6      5  22685 -381.682239  135.438799\n",
       "2      0         3      3   6082  160.995866  139.460859\n",
       "3      0         5      2  27787  -35.433651 -150.895515\n",
       "4      0         5      1  15230  -19.627350  -82.702885"
      ]
     },
     "execution_count": 2,
     "metadata": {},
     "output_type": "execute_result"
    }
   ],
   "source": [
    "data = pandas.read_csv('hits_1000.csv', index_col=False)\n",
    "#data = data[data.event.values < 100]\n",
    "\n",
    "data.head()"
   ]
  },
  {
   "cell_type": "markdown",
   "metadata": {},
   "source": [
    "# Tracks Clustering"
   ]
  },
  {
   "cell_type": "markdown",
   "metadata": {},
   "source": [
    "## One event"
   ]
  },
  {
   "cell_type": "code",
   "execution_count": 3,
   "metadata": {
    "collapsed": false
   },
   "outputs": [],
   "source": [
    "toy_event_id = 0\n",
    "event = data[data.event.values == toy_event_id]"
   ]
  },
  {
   "cell_type": "code",
   "execution_count": 4,
   "metadata": {
    "collapsed": false
   },
   "outputs": [],
   "source": [
    "from hough import Hough\n",
    "\n",
    "h = Hough(n_theta_bins=5000, n_radius_bins=1000, min_radius=20., min_hits=6)\n",
    "h.predict(event.x.values, event.y.values)\n",
    "\n",
    "matrix_hough = h.matrix_hough_\n",
    "track_inds = h.track_inds_\n",
    "track_params = h.track_params_"
   ]
  },
  {
   "cell_type": "code",
   "execution_count": 5,
   "metadata": {
    "collapsed": false
   },
   "outputs": [
    {
     "name": "stdout",
     "output_type": "stream",
     "text": [
      "List of tracks. A track is a list of hit indexes. One hit can belong to several recognized tracks.\n"
     ]
    },
    {
     "data": {
      "text/plain": [
       "array([array([19, 22, 28, 35, 48, 52]), array([19, 22, 28, 35, 48, 52]),\n",
       "       array([19, 22, 28, 35, 48, 52]), array([13, 19, 22, 28, 48, 52]),\n",
       "       array([13, 19, 22, 28, 35, 48, 52]),\n",
       "       array([ 2,  5, 16, 36, 49, 56]), array([ 2,  5, 16, 36, 40, 49]),\n",
       "       array([ 2,  5, 16, 36, 40, 49]), array([ 2,  5, 16, 36, 40, 49]),\n",
       "       array([ 3, 23, 29, 30, 32, 54]),\n",
       "       array([ 3, 23, 29, 30, 32, 43, 53, 54]),\n",
       "       array([ 3, 23, 29, 30, 32, 43, 53, 54]),\n",
       "       array([ 3, 23, 29, 30, 32, 43, 53, 54]),\n",
       "       array([23, 29, 30, 32, 43, 53, 54]),\n",
       "       array([23, 29, 30, 32, 43, 54]), array([17, 23, 33, 39, 45, 50]),\n",
       "       array([17, 18, 23, 30, 33, 39, 50]),\n",
       "       array([17, 18, 23, 30, 33, 39, 50]),\n",
       "       array([17, 18, 23, 30, 33, 39, 50]),\n",
       "       array([17, 23, 30, 33, 39, 50]), array([17, 23, 30, 33, 39, 50]),\n",
       "       array([ 0,  9, 14, 34, 38, 42]), array([ 0,  9, 14, 34, 38, 42]),\n",
       "       array([ 0,  9, 14, 26, 34, 38, 42]),\n",
       "       array([ 0,  9, 14, 26, 34, 38, 42]),\n",
       "       array([ 0,  9, 14, 26, 34, 38, 42]),\n",
       "       array([ 0,  9, 14, 26, 34, 38, 42]),\n",
       "       array([ 0,  9, 14, 26, 34, 38, 42]),\n",
       "       array([ 0,  9, 14, 34, 38, 42]), array([ 1, 12, 20, 24, 27, 44]),\n",
       "       array([ 1, 11, 12, 20, 27, 55]),\n",
       "       array([ 1, 11, 12, 20, 21, 27, 55]),\n",
       "       array([ 1, 11, 12, 20, 21, 27, 55]),\n",
       "       array([ 1, 11, 12, 20, 21, 27]), array([ 1, 11, 12, 20, 21, 27]),\n",
       "       array([ 1, 11, 12, 20, 21, 27]), array([ 1, 11, 12, 20, 21, 27]),\n",
       "       array([ 7,  8, 10, 37, 46, 57]),\n",
       "       array([ 7,  8, 10, 37, 46, 47, 57]),\n",
       "       array([ 7,  8, 10, 37, 46, 47, 57]),\n",
       "       array([ 7,  8, 10, 15, 37, 46, 57]),\n",
       "       array([ 4, 17, 32, 43, 53, 54]), array([ 3,  4, 17, 32, 43, 53])], dtype=object)"
      ]
     },
     "execution_count": 5,
     "metadata": {},
     "output_type": "execute_result"
    }
   ],
   "source": [
    "print \"List of tracks. A track is a list of hit indexes. One hit can belong to several recognized tracks.\"\n",
    "track_inds"
   ]
  },
  {
   "cell_type": "markdown",
   "metadata": {},
   "source": [
    "The following function merge hits of track from one cluster."
   ]
  },
  {
   "cell_type": "code",
   "execution_count": 6,
   "metadata": {
    "collapsed": true
   },
   "outputs": [],
   "source": [
    "def merge_tracks(tracks_inds, cluster_labels):\n",
    "    \n",
    "    new_track_inds = []\n",
    "    \n",
    "    for one_label in numpy.unique(cluster_labels):\n",
    "        \n",
    "        one_label_tracks = tracks_inds[cluster_labels == one_label]\n",
    "        one_new_track = numpy.unique(numpy.concatenate(tuple(one_label_tracks)))\n",
    "        \n",
    "        new_track_inds.append(one_new_track)\n",
    "        \n",
    "    return numpy.array(new_track_inds)"
   ]
  },
  {
   "cell_type": "markdown",
   "metadata": {},
   "source": [
    "Tracks clustering and merging hit of tracks from one cluster."
   ]
  },
  {
   "cell_type": "code",
   "execution_count": 7,
   "metadata": {
    "collapsed": false
   },
   "outputs": [],
   "source": [
    "from sklearn.cluster import MeanShift\n",
    "from sklearn.preprocessing import StandardScaler\n",
    "\n",
    "ss = StandardScaler()\n",
    "scaled_params = ss.fit_transform(numpy.array(track_params))\n",
    "\n",
    "km = MeanShift(bandwidth=0.1)\n",
    "km.fit(scaled_params)\n",
    "\n",
    "cluster_labels = km.labels_\n",
    "cluster_centers = km.cluster_centers_\n",
    "\n",
    "new_track_inds = merge_tracks(track_inds, cluster_labels)"
   ]
  },
  {
   "cell_type": "code",
   "execution_count": 8,
   "metadata": {
    "collapsed": false
   },
   "outputs": [
    {
     "data": {
      "image/png": "[encoded data removed]",
      "text/plain": [
       "<matplotlib.figure.Figure at 0x1077ea750>"
      ]
     },
     "metadata": {},
     "output_type": "display_data"
    }
   ],
   "source": [
    "\n",
    "plt.figure(figsize=(12,8))\n",
    "plt.scatter(scaled_params[:, 0], scaled_params[:, 1], color='b', label='tracks %d' % len(scaled_params), linewidth=10)\n",
    "plt.scatter(cluster_centers[:, 0], cluster_centers[:, 1], color='r', label='cluster centers %d' % len(cluster_centers), linewidth=3)\n",
    "\n",
    "plt.title(\"Tracks Clusters\", fontsize=20)\n",
    "plt.legend(loc=\"best\", prop={'size':20},  shadow=True, fancybox=True)\n",
    "plt.xlabel('Scaled 1/r0', fontsize=20)\n",
    "plt.ylabel('Scaled Theta', fontsize=20)\n",
    "plt.xticks(fontsize=20)\n",
    "plt.yticks(fontsize=20)\n",
    "plt.grid(linewidth=1)\n",
    "plt.show()"
   ]
  },
  {
   "cell_type": "code",
   "execution_count": 9,
   "metadata": {
    "collapsed": false
   },
   "outputs": [
    {
     "data": {
      "image/png": "[encoded data removed]",
      "text/plain": [
       "<matplotlib.figure.Figure at 0x1077eadd0>"
      ]
     },
     "metadata": {},
     "output_type": "display_data"
    }
   ],
   "source": [
    "plt.figure(figsize=(8,8))\n",
    "plt.scatter(event.x.values, event.y.values)\n",
    "\n",
    "for track in new_track_inds:\n",
    "    \n",
    "    xs = event.x.values[track]\n",
    "    ys = event.y.values[track]\n",
    "    \n",
    "    sort_inds = xs.argsort()\n",
    "    \n",
    "    plt.plot(xs[sort_inds], ys[sort_inds])\n",
    "\n",
    "plt.title(\"Hits and Reconstructed Tracks\", size=15)\n",
    "plt.xlabel(\"x\", size=25)\n",
    "plt.ylabel(\"y\", size=25)\n",
    "plt.grid(b=1)\n",
    "plt.show()"
   ]
  },
  {
   "cell_type": "markdown",
   "metadata": {
    "collapsed": true
   },
   "source": [
    "## Hough Transform Modification"
   ]
  },
  {
   "cell_type": "code",
   "execution_count": 10,
   "metadata": {
    "collapsed": true
   },
   "outputs": [],
   "source": [
    "from hough import Hough\n",
    "from regression import TrackRegression\n",
    "from sklearn.cluster import MeanShift\n",
    "from sklearn.preprocessing import StandardScaler\n",
    "\n",
    "class ModifiedHough(Hough):\n",
    "    \n",
    "    \n",
    "    def __init__(self, n_theta_bins=5000, n_radius_bins=1000, min_radius=20., min_hits=7, bandwidth=0.1):\n",
    "        \n",
    "        self.bandwidth = bandwidth # Parameters affects the tracks clustering quality\n",
    "        \n",
    "        Hough.__init__(self, n_theta_bins, n_radius_bins, min_radius, min_hits)\n",
    "    \n",
    "    def merge_tracks(tracks_inds, cluster_labels):\n",
    "    \n",
    "        new_track_inds = []\n",
    "\n",
    "        for one_label in numpy.unique(cluster_labels):\n",
    "\n",
    "            one_label_tracks = tracks_inds[cluster_labels == one_label]\n",
    "            one_new_track = numpy.unique(numpy.concatenate(tuple(one_label_tracks)))\n",
    "\n",
    "            new_track_inds.append(one_new_track)\n",
    "\n",
    "        return numpy.array(new_track_inds)\n",
    "    \n",
    "    def tracks_clustering(self, track_inds, track_params):\n",
    "        \n",
    "        ss = StandardScaler()\n",
    "        scaled_params = ss.fit_transform(numpy.array(track_params))\n",
    "\n",
    "        km = MeanShift(bandwidth=self.bandwidth)\n",
    "        km.fit(scaled_params)\n",
    "\n",
    "        cluster_labels = km.labels_\n",
    "        cluster_centers = km.cluster_centers_\n",
    "\n",
    "        new_track_inds = merge_tracks(track_inds, cluster_labels)\n",
    "        \n",
    "        return new_track_inds\n",
    "\n",
    "    \n",
    "    def predict(self, x, y): # This method must be!\n",
    "        \n",
    "        Hough.predict(self, x, y)\n",
    "        \n",
    "        self.track_inds_ = self.tracks_clustering(self.track_inds_, self.track_params_) # This attribute must be!"
   ]
  },
  {
   "cell_type": "code",
   "execution_count": 11,
   "metadata": {
    "collapsed": false
   },
   "outputs": [
    {
     "data": {
      "text/html": [
       "<div>\n",
       "<table border=\"1\" class=\"dataframe\">\n",
       "  <thead>\n",
       "    <tr style=\"text-align: right;\">\n",
       "      <th></th>\n",
       "      <th>event</th>\n",
       "      <th>track</th>\n",
       "      <th>hit_index</th>\n",
       "      <th>x</th>\n",
       "      <th>y</th>\n",
       "    </tr>\n",
       "  </thead>\n",
       "  <tbody>\n",
       "    <tr>\n",
       "      <th>0</th>\n",
       "      <td>0</td>\n",
       "      <td>0</td>\n",
       "      <td>3</td>\n",
       "      <td>-35.433651</td>\n",
       "      <td>-150.895515</td>\n",
       "    </tr>\n",
       "    <tr>\n",
       "      <th>1</th>\n",
       "      <td>0</td>\n",
       "      <td>0</td>\n",
       "      <td>23</td>\n",
       "      <td>-237.993471</td>\n",
       "      <td>-971.266754</td>\n",
       "    </tr>\n",
       "    <tr>\n",
       "      <th>2</th>\n",
       "      <td>0</td>\n",
       "      <td>0</td>\n",
       "      <td>29</td>\n",
       "      <td>-178.767664</td>\n",
       "      <td>-740.733503</td>\n",
       "    </tr>\n",
       "    <tr>\n",
       "      <th>3</th>\n",
       "      <td>0</td>\n",
       "      <td>0</td>\n",
       "      <td>30</td>\n",
       "      <td>-242.167696</td>\n",
       "      <td>-970.234408</td>\n",
       "    </tr>\n",
       "    <tr>\n",
       "      <th>4</th>\n",
       "      <td>0</td>\n",
       "      <td>0</td>\n",
       "      <td>32</td>\n",
       "      <td>-93.036300</td>\n",
       "      <td>-394.169059</td>\n",
       "    </tr>\n",
       "  </tbody>\n",
       "</table>\n",
       "</div>"
      ],
      "text/plain": [
       "   event  track  hit_index           x           y\n",
       "0      0      0          3  -35.433651 -150.895515\n",
       "1      0      0         23 -237.993471 -971.266754\n",
       "2      0      0         29 -178.767664 -740.733503\n",
       "3      0      0         30 -242.167696 -970.234408\n",
       "4      0      0         32  -93.036300 -394.169059"
      ]
     },
     "execution_count": 11,
     "metadata": {},
     "output_type": "execute_result"
    }
   ],
   "source": [
    "from recognizer import TrackRecognizer\n",
    "\n",
    "method = ModifiedHough(n_theta_bins=5000, n_radius_bins=1000, min_radius=20., min_hits=6, bandwidth=0.001)\n",
    "\n",
    "tr = TrackRecognizer(method=method)\n",
    "results = tr.predict(data)\n",
    "\n",
    "results.head()"
   ]
  },
  {
   "cell_type": "markdown",
   "metadata": {},
   "source": [
    "## Quality metrics"
   ]
  },
  {
   "cell_type": "code",
   "execution_count": 12,
   "metadata": {
    "collapsed": false
   },
   "outputs": [],
   "source": [
    "from metrics import RecognitionQuality\n",
    "\n",
    "rq = RecognitionQuality(data, results, track_eff_threshold=0.8, min_hits_per_track=6)\n",
    "report_event, report_tracks = rq.calculate()"
   ]
  },
  {
   "cell_type": "code",
   "execution_count": 13,
   "metadata": {
    "collapsed": false
   },
   "outputs": [
    {
     "data": {
      "text/plain": [
       "Event                       499.500000\n",
       "ReconstructionEfficiency      0.919417\n",
       "GhostRate                     0.465082\n",
       "CloneRate                     1.707201\n",
       "AvgTrackEfficiency            0.931230\n",
       "dtype: float64"
      ]
     },
     "execution_count": 13,
     "metadata": {},
     "output_type": "execute_result"
    }
   ],
   "source": [
    "report_event.mean(axis=0)"
   ]
  },
  {
   "cell_type": "code",
   "execution_count": null,
   "metadata": {
    "collapsed": true
   },
   "outputs": [],
   "source": []
  }
 ],
 "metadata": {
  "kernelspec": {
   "display_name": "Python 2",
   "language": "python",
   "name": "python2"
  },
  "language_info": {
   "codemirror_mode": {
    "name": "ipython",
    "version": 2
   },
   "file_extension": ".py",
   "mimetype": "text/x-python",
   "name": "python",
   "nbconvert_exporter": "python",
   "pygments_lexer": "ipython2",
   "version": "2.7.11"
  }
 },
 "nbformat": 4,
 "nbformat_minor": 0
}
