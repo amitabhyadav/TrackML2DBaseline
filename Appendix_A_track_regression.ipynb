{
 "cells": [
  {
   "cell_type": "code",
   "execution_count": 1,
   "metadata": {
    "collapsed": false
   },
   "outputs": [],
   "source": [
    "%matplotlib inline\n",
    "import matplotlib.pyplot as plt\n",
    "\n",
    "import pandas\n",
    "import numpy"
   ]
  },
  {
   "cell_type": "markdown",
   "metadata": {},
   "source": [
    "# Input data"
   ]
  },
  {
   "cell_type": "code",
   "execution_count": 2,
   "metadata": {
    "collapsed": false
   },
   "outputs": [
    {
     "data": {
      "text/html": [
       "<div>\n",
       "<table border=\"1\" class=\"dataframe\">\n",
       "  <thead>\n",
       "    <tr style=\"text-align: right;\">\n",
       "      <th></th>\n",
       "      <th>event</th>\n",
       "      <th>particle</th>\n",
       "      <th>hit</th>\n",
       "      <th>x</th>\n",
       "      <th>y</th>\n",
       "    </tr>\n",
       "  </thead>\n",
       "  <tbody>\n",
       "    <tr>\n",
       "      <th>0</th>\n",
       "      <td>0</td>\n",
       "      <td>10000050</td>\n",
       "      <td>100000100</td>\n",
       "      <td>-582.140676</td>\n",
       "      <td>813.136874</td>\n",
       "    </tr>\n",
       "    <tr>\n",
       "      <th>1</th>\n",
       "      <td>0</td>\n",
       "      <td>10000050</td>\n",
       "      <td>100000270</td>\n",
       "      <td>-1164.253919</td>\n",
       "      <td>1626.244599</td>\n",
       "    </tr>\n",
       "    <tr>\n",
       "      <th>2</th>\n",
       "      <td>0</td>\n",
       "      <td>10000050</td>\n",
       "      <td>100000030</td>\n",
       "      <td>-1746.367161</td>\n",
       "      <td>2439.352325</td>\n",
       "    </tr>\n",
       "    <tr>\n",
       "      <th>3</th>\n",
       "      <td>0</td>\n",
       "      <td>10000050</td>\n",
       "      <td>100001620</td>\n",
       "      <td>-2328.480404</td>\n",
       "      <td>3252.460050</td>\n",
       "    </tr>\n",
       "    <tr>\n",
       "      <th>4</th>\n",
       "      <td>0</td>\n",
       "      <td>10000050</td>\n",
       "      <td>100000550</td>\n",
       "      <td>-2910.593646</td>\n",
       "      <td>4065.567775</td>\n",
       "    </tr>\n",
       "  </tbody>\n",
       "</table>\n",
       "</div>"
      ],
      "text/plain": [
       "   event  particle        hit            x            y\n",
       "0      0  10000050  100000100  -582.140676   813.136874\n",
       "1      0  10000050  100000270 -1164.253919  1626.244599\n",
       "2      0  10000050  100000030 -1746.367161  2439.352325\n",
       "3      0  10000050  100001620 -2328.480404  3252.460050\n",
       "4      0  10000050  100000550 -2910.593646  4065.567775"
      ]
     },
     "execution_count": 2,
     "metadata": {},
     "output_type": "execute_result"
    }
   ],
   "source": [
    "data = pandas.read_csv('input.csv', index_col=False)\n",
    "\n",
    "data.head()"
   ]
  },
  {
   "cell_type": "markdown",
   "metadata": {},
   "source": [
    "# Track Regression\n",
    "\n",
    "Consider a track pattern recognition method using the Hough Tramsform in polar system. In this system a circular track can be parametrized as follow:\n",
    "\n",
    "$$\n",
    "r = 2r_{0}Cos(\\phi - \\theta)\n",
    "$$\n",
    "\n",
    "where:\n",
    "* $r$ and $\\phi$ : are coordinates of a hit in the polar system.\n",
    "* $r_{0}$ and $\\theta$ : are coordinates of a center of a circular track in the polar system.\n",
    "\n",
    "A linear track corresponds to the $r_{0} = \\infty$.\n",
    "\n",
    "Transformation of cartesian coordinates of a hit to polar coordinates defined as:\n",
    "\n",
    "$$\n",
    "\\phi = arctan(\\frac{y}{x})\n",
    "$$\n",
    "$$\n",
    "r = \\sqrt{x^{2} + y^{2}}\n",
    "$$\n",
    "\n",
    "\n",
    "The Track Regression model fits the following model:\n",
    "\n",
    "$$\n",
    "r = 2r_{0} Cos(\\theta) Sin (\\phi) + 2r_{0} Sin(\\theta) Sin(\\phi)\n",
    "$$"
   ]
  },
  {
   "cell_type": "markdown",
   "metadata": {},
   "source": [
    "## Select one track"
   ]
  },
  {
   "cell_type": "code",
   "execution_count": 3,
   "metadata": {
    "collapsed": false
   },
   "outputs": [
    {
     "data": {
      "text/html": [
       "<div>\n",
       "<table border=\"1\" class=\"dataframe\">\n",
       "  <thead>\n",
       "    <tr style=\"text-align: right;\">\n",
       "      <th></th>\n",
       "      <th>event</th>\n",
       "      <th>particle</th>\n",
       "      <th>hit</th>\n",
       "      <th>x</th>\n",
       "      <th>y</th>\n",
       "    </tr>\n",
       "  </thead>\n",
       "  <tbody>\n",
       "    <tr>\n",
       "      <th>24</th>\n",
       "      <td>0</td>\n",
       "      <td>10000000</td>\n",
       "      <td>100001250</td>\n",
       "      <td>-572.125214</td>\n",
       "      <td>-820.166288</td>\n",
       "    </tr>\n",
       "    <tr>\n",
       "      <th>25</th>\n",
       "      <td>0</td>\n",
       "      <td>10000000</td>\n",
       "      <td>100000080</td>\n",
       "      <td>-1060.473423</td>\n",
       "      <td>-1695.699301</td>\n",
       "    </tr>\n",
       "    <tr>\n",
       "      <th>26</th>\n",
       "      <td>0</td>\n",
       "      <td>10000000</td>\n",
       "      <td>100001380</td>\n",
       "      <td>-1460.375365</td>\n",
       "      <td>-2620.554100</td>\n",
       "    </tr>\n",
       "    <tr>\n",
       "      <th>27</th>\n",
       "      <td>0</td>\n",
       "      <td>10000000</td>\n",
       "      <td>100000780</td>\n",
       "      <td>-1767.032265</td>\n",
       "      <td>-3588.536885</td>\n",
       "    </tr>\n",
       "    <tr>\n",
       "      <th>28</th>\n",
       "      <td>0</td>\n",
       "      <td>10000000</td>\n",
       "      <td>100000500</td>\n",
       "      <td>-1975.456027</td>\n",
       "      <td>-4593.209497</td>\n",
       "    </tr>\n",
       "    <tr>\n",
       "      <th>29</th>\n",
       "      <td>0</td>\n",
       "      <td>10000000</td>\n",
       "      <td>100000610</td>\n",
       "      <td>-2080.389423</td>\n",
       "      <td>-5627.786408</td>\n",
       "    </tr>\n",
       "    <tr>\n",
       "      <th>30</th>\n",
       "      <td>0</td>\n",
       "      <td>10000000</td>\n",
       "      <td>100000310</td>\n",
       "      <td>-2076.209258</td>\n",
       "      <td>-6685.009732</td>\n",
       "    </tr>\n",
       "    <tr>\n",
       "      <th>31</th>\n",
       "      <td>0</td>\n",
       "      <td>10000000</td>\n",
       "      <td>100001920</td>\n",
       "      <td>-1956.804180</td>\n",
       "      <td>-7756.991518</td>\n",
       "    </tr>\n",
       "  </tbody>\n",
       "</table>\n",
       "</div>"
      ],
      "text/plain": [
       "    event  particle        hit            x            y\n",
       "24      0  10000000  100001250  -572.125214  -820.166288\n",
       "25      0  10000000  100000080 -1060.473423 -1695.699301\n",
       "26      0  10000000  100001380 -1460.375365 -2620.554100\n",
       "27      0  10000000  100000780 -1767.032265 -3588.536885\n",
       "28      0  10000000  100000500 -1975.456027 -4593.209497\n",
       "29      0  10000000  100000610 -2080.389423 -5627.786408\n",
       "30      0  10000000  100000310 -2076.209258 -6685.009732\n",
       "31      0  10000000  100001920 -1956.804180 -7756.991518"
      ]
     },
     "execution_count": 3,
     "metadata": {},
     "output_type": "execute_result"
    }
   ],
   "source": [
    "toy_event_id = 0\n",
    "event = data[data.event.values == toy_event_id]\n",
    "track = event[event.particle.values == numpy.unique(event.particle.values)[0]]\n",
    "track"
   ]
  },
  {
   "cell_type": "markdown",
   "metadata": {},
   "source": [
    "## Track Regression Example"
   ]
  },
  {
   "cell_type": "code",
   "execution_count": 4,
   "metadata": {
    "collapsed": false
   },
   "outputs": [
    {
     "name": "stdout",
     "output_type": "stream",
     "text": [
      "-0.659175386315 0.000100126605738\n"
     ]
    }
   ],
   "source": [
    "from regression import TrackRegression\n",
    "\n",
    "tr = TrackRegression()\n",
    "tr.fit(track.x.values, track.y.values)\n",
    "x_pred, y_pred = tr.predict(numpy.linspace(-4, 4, 1000001))\n",
    "\n",
    "print tr.theta_, tr.invr_"
   ]
  },
  {
   "cell_type": "code",
   "execution_count": 10,
   "metadata": {
    "collapsed": false
   },
   "outputs": [
    {
     "data": {
      "image/png": "[encoded data removed]",
      "text/plain": [
       "<matplotlib.figure.Figure at 0x1154e17d0>"
      ]
     },
     "metadata": {},
     "output_type": "display_data"
    }
   ],
   "source": [
    "plt.figure(figsize=(8,8))\n",
    "\n",
    "plt.scatter(track.x.values, track.y.values, label='Origin Hits')\n",
    "plt.plot(x_pred, y_pred, label='Predict')\n",
    "\n",
    "plt.title(\"Hits\", size=20)\n",
    "plt.xlim(-10000, 10000)\n",
    "plt.ylim(-10000, 10000)\n",
    "plt.grid(b=1)\n",
    "plt.xlabel('x', size=20)\n",
    "plt.ylabel('y', size=20)\n",
    "plt.legend(loc='best')\n",
    "plt.show()"
   ]
  },
  {
   "cell_type": "code",
   "execution_count": null,
   "metadata": {
    "collapsed": true
   },
   "outputs": [],
   "source": []
  }
 ],
 "metadata": {
  "kernelspec": {
   "display_name": "Python 2",
   "language": "python",
   "name": "python2"
  },
  "language_info": {
   "codemirror_mode": {
    "name": "ipython",
    "version": 2
   },
   "file_extension": ".py",
   "mimetype": "text/x-python",
   "name": "python",
   "nbconvert_exporter": "python",
   "pygments_lexer": "ipython2",
   "version": "2.7.11"
  }
 },
 "nbformat": 4,
 "nbformat_minor": 0
}
