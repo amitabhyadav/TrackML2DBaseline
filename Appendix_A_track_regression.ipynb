{
 "cells": [
  {
   "cell_type": "code",
   "execution_count": 1,
   "metadata": {
    "collapsed": false
   },
   "outputs": [],
   "source": [
    "%matplotlib inline\n",
    "import matplotlib.pyplot as plt\n",
    "\n",
    "import pandas\n",
    "import numpy"
   ]
  },
  {
   "cell_type": "markdown",
   "metadata": {},
   "source": [
    "# Input data"
   ]
  },
  {
   "cell_type": "code",
   "execution_count": 2,
   "metadata": {
    "collapsed": false
   },
   "outputs": [
    {
     "data": {
      "text/html": [
       "<div>\n",
       "<table border=\"1\" class=\"dataframe\">\n",
       "  <thead>\n",
       "    <tr style=\"text-align: right;\">\n",
       "      <th></th>\n",
       "      <th>event</th>\n",
       "      <th>particle</th>\n",
       "      <th>layer</th>\n",
       "      <th>iphi</th>\n",
       "      <th>x</th>\n",
       "      <th>y</th>\n",
       "    </tr>\n",
       "  </thead>\n",
       "  <tbody>\n",
       "    <tr>\n",
       "      <th>0</th>\n",
       "      <td>0</td>\n",
       "      <td>0</td>\n",
       "      <td>5</td>\n",
       "      <td>39276</td>\n",
       "      <td>55.103343</td>\n",
       "      <td>-401.233874</td>\n",
       "    </tr>\n",
       "    <tr>\n",
       "      <th>1</th>\n",
       "      <td>0</td>\n",
       "      <td>6</td>\n",
       "      <td>5</td>\n",
       "      <td>22685</td>\n",
       "      <td>-381.682239</td>\n",
       "      <td>135.438799</td>\n",
       "    </tr>\n",
       "    <tr>\n",
       "      <th>2</th>\n",
       "      <td>0</td>\n",
       "      <td>3</td>\n",
       "      <td>3</td>\n",
       "      <td>6082</td>\n",
       "      <td>160.995866</td>\n",
       "      <td>139.460859</td>\n",
       "    </tr>\n",
       "    <tr>\n",
       "      <th>3</th>\n",
       "      <td>0</td>\n",
       "      <td>5</td>\n",
       "      <td>2</td>\n",
       "      <td>27787</td>\n",
       "      <td>-35.433651</td>\n",
       "      <td>-150.895515</td>\n",
       "    </tr>\n",
       "    <tr>\n",
       "      <th>4</th>\n",
       "      <td>0</td>\n",
       "      <td>5</td>\n",
       "      <td>1</td>\n",
       "      <td>15230</td>\n",
       "      <td>-19.627350</td>\n",
       "      <td>-82.702885</td>\n",
       "    </tr>\n",
       "  </tbody>\n",
       "</table>\n",
       "</div>"
      ],
      "text/plain": [
       "   event  particle  layer   iphi           x           y\n",
       "0      0         0      5  39276   55.103343 -401.233874\n",
       "1      0         6      5  22685 -381.682239  135.438799\n",
       "2      0         3      3   6082  160.995866  139.460859\n",
       "3      0         5      2  27787  -35.433651 -150.895515\n",
       "4      0         5      1  15230  -19.627350  -82.702885"
      ]
     },
     "execution_count": 2,
     "metadata": {},
     "output_type": "execute_result"
    }
   ],
   "source": [
    "data = pandas.read_csv('hits_1000.csv', index_col=False)\n",
    "data = data[data.event.values < 100]\n",
    "\n",
    "data.head()"
   ]
  },
  {
   "cell_type": "markdown",
   "metadata": {},
   "source": [
    "# Track Regression\n",
    "\n",
    "Consider a track pattern recognition method using the Hough Tramsform in polar system. In this system a circular track can be parametrized as follow:\n",
    "\n",
    "$$\n",
    "r = 2r_{0}Cos(\\phi - \\theta)\n",
    "$$\n",
    "\n",
    "where:\n",
    "* $r$ and $\\phi$ : are coordinates of a hit in the polar system.\n",
    "* $r_{0}$ and $\\theta$ : are coordinates of a center of a circular track in the polar system.\n",
    "\n",
    "A linear track corresponds to the $r_{0} = \\infty$.\n",
    "\n",
    "Transformation of cartesian coordinates of a hit to polar coordinates defined as:\n",
    "\n",
    "$$\n",
    "\\phi = arctan(\\frac{y}{x})\n",
    "$$\n",
    "$$\n",
    "r = \\sqrt{x^{2} + y^{2}}\n",
    "$$\n",
    "\n",
    "\n",
    "The Track Regression model fits the following model:\n",
    "\n",
    "$$\n",
    "r = 2r_{0} Cos(\\theta) Cos (\\phi) + 2r_{0} Sin(\\theta) Sin(\\phi)\n",
    "$$"
   ]
  },
  {
   "cell_type": "markdown",
   "metadata": {},
   "source": [
    "## Select one track"
   ]
  },
  {
   "cell_type": "code",
   "execution_count": 3,
   "metadata": {
    "collapsed": false
   },
   "outputs": [
    {
     "data": {
      "text/html": [
       "<div>\n",
       "<table border=\"1\" class=\"dataframe\">\n",
       "  <thead>\n",
       "    <tr style=\"text-align: right;\">\n",
       "      <th></th>\n",
       "      <th>event</th>\n",
       "      <th>particle</th>\n",
       "      <th>layer</th>\n",
       "      <th>iphi</th>\n",
       "      <th>x</th>\n",
       "      <th>y</th>\n",
       "    </tr>\n",
       "  </thead>\n",
       "  <tbody>\n",
       "    <tr>\n",
       "      <th>0</th>\n",
       "      <td>0</td>\n",
       "      <td>0</td>\n",
       "      <td>5</td>\n",
       "      <td>39276</td>\n",
       "      <td>55.103343</td>\n",
       "      <td>-401.233874</td>\n",
       "    </tr>\n",
       "    <tr>\n",
       "      <th>9</th>\n",
       "      <td>0</td>\n",
       "      <td>0</td>\n",
       "      <td>4</td>\n",
       "      <td>52603</td>\n",
       "      <td>37.887823</td>\n",
       "      <td>-268.338430</td>\n",
       "    </tr>\n",
       "    <tr>\n",
       "      <th>14</th>\n",
       "      <td>0</td>\n",
       "      <td>0</td>\n",
       "      <td>8</td>\n",
       "      <td>96715</td>\n",
       "      <td>123.037152</td>\n",
       "      <td>-992.402065</td>\n",
       "    </tr>\n",
       "    <tr>\n",
       "      <th>26</th>\n",
       "      <td>0</td>\n",
       "      <td>0</td>\n",
       "      <td>2</td>\n",
       "      <td>30115</td>\n",
       "      <td>22.371445</td>\n",
       "      <td>-153.377047</td>\n",
       "    </tr>\n",
       "    <tr>\n",
       "      <th>34</th>\n",
       "      <td>0</td>\n",
       "      <td>0</td>\n",
       "      <td>7</td>\n",
       "      <td>73774</td>\n",
       "      <td>97.581043</td>\n",
       "      <td>-755.726101</td>\n",
       "    </tr>\n",
       "    <tr>\n",
       "      <th>38</th>\n",
       "      <td>0</td>\n",
       "      <td>0</td>\n",
       "      <td>6</td>\n",
       "      <td>54460</td>\n",
       "      <td>74.380074</td>\n",
       "      <td>-557.056195</td>\n",
       "    </tr>\n",
       "    <tr>\n",
       "      <th>41</th>\n",
       "      <td>0</td>\n",
       "      <td>0</td>\n",
       "      <td>0</td>\n",
       "      <td>7608</td>\n",
       "      <td>6.383496</td>\n",
       "      <td>-38.474030</td>\n",
       "    </tr>\n",
       "    <tr>\n",
       "      <th>42</th>\n",
       "      <td>0</td>\n",
       "      <td>0</td>\n",
       "      <td>3</td>\n",
       "      <td>41362</td>\n",
       "      <td>30.203952</td>\n",
       "      <td>-210.847626</td>\n",
       "    </tr>\n",
       "  </tbody>\n",
       "</table>\n",
       "</div>"
      ],
      "text/plain": [
       "    event  particle  layer   iphi           x           y\n",
       "0       0         0      5  39276   55.103343 -401.233874\n",
       "9       0         0      4  52603   37.887823 -268.338430\n",
       "14      0         0      8  96715  123.037152 -992.402065\n",
       "26      0         0      2  30115   22.371445 -153.377047\n",
       "34      0         0      7  73774   97.581043 -755.726101\n",
       "38      0         0      6  54460   74.380074 -557.056195\n",
       "41      0         0      0   7608    6.383496  -38.474030\n",
       "42      0         0      3  41362   30.203952 -210.847626"
      ]
     },
     "execution_count": 3,
     "metadata": {},
     "output_type": "execute_result"
    }
   ],
   "source": [
    "toy_event_id = 0\n",
    "event = data[data.event.values == toy_event_id]\n",
    "track = event[event.particle.values == numpy.unique(event.particle.values)[0]]\n",
    "track"
   ]
  },
  {
   "cell_type": "markdown",
   "metadata": {},
   "source": [
    "## Track Regression Example"
   ]
  },
  {
   "cell_type": "code",
   "execution_count": 4,
   "metadata": {
    "collapsed": false
   },
   "outputs": [
    {
     "name": "stdout",
     "output_type": "stream",
     "text": [
      "3.29886903946 8.53607787164e-05\n"
     ]
    }
   ],
   "source": [
    "from regression import TrackRegression\n",
    "\n",
    "tr = TrackRegression()\n",
    "tr.fit(track.x.values, track.y.values)\n",
    "x_pred, y_pred = tr.predict(numpy.linspace(-4, 4, 1000001))\n",
    "\n",
    "print tr.theta_, tr.invr_"
   ]
  },
  {
   "cell_type": "code",
   "execution_count": 5,
   "metadata": {
    "collapsed": false
   },
   "outputs": [
    {
     "data": {
      "image/png": "[encoded data removed]",
      "text/plain": [
       "<matplotlib.figure.Figure at 0x106e99bd0>"
      ]
     },
     "metadata": {},
     "output_type": "display_data"
    }
   ],
   "source": [
    "plt.figure(figsize=(8,8))\n",
    "\n",
    "plt.scatter(track.x.values, track.y.values, label='Origin Hits')\n",
    "plt.plot(x_pred, y_pred, label='Predict')\n",
    "\n",
    "plt.title(\"Hits\", size=20)\n",
    "plt.xlim(-1500, 1500)\n",
    "plt.ylim(-1500, 1500)\n",
    "plt.grid(b=1)\n",
    "plt.xlabel('x', size=20)\n",
    "plt.ylabel('y', size=20)\n",
    "plt.legend(loc='best')\n",
    "plt.show()"
   ]
  },
  {
   "cell_type": "code",
   "execution_count": null,
   "metadata": {
    "collapsed": true
   },
   "outputs": [],
   "source": []
  }
 ],
 "metadata": {
  "kernelspec": {
   "display_name": "Python 2",
   "language": "python",
   "name": "python2"
  },
  "language_info": {
   "codemirror_mode": {
    "name": "ipython",
    "version": 2
   },
   "file_extension": ".py",
   "mimetype": "text/x-python",
   "name": "python",
   "nbconvert_exporter": "python",
   "pygments_lexer": "ipython2",
   "version": "2.7.11"
  }
 },
 "nbformat": 4,
 "nbformat_minor": 0
}
