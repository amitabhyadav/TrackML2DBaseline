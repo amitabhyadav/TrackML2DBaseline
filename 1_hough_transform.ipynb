{
 "cells": [
  {
   "cell_type": "code",
   "execution_count": 1,
   "metadata": {
    "collapsed": false
   },
   "outputs": [],
   "source": [
    "%matplotlib inline\n",
    "import matplotlib.pyplot as plt\n",
    "\n",
    "import pandas\n",
    "import numpy"
   ]
  },
  {
   "cell_type": "markdown",
   "metadata": {},
   "source": [
    "# Input data"
   ]
  },
  {
   "cell_type": "code",
   "execution_count": 2,
   "metadata": {
    "collapsed": false
   },
   "outputs": [
    {
     "data": {
      "text/html": [
       "<div>\n",
       "<table border=\"1\" class=\"dataframe\">\n",
       "  <thead>\n",
       "    <tr style=\"text-align: right;\">\n",
       "      <th></th>\n",
       "      <th>event</th>\n",
       "      <th>particle</th>\n",
       "      <th>hit</th>\n",
       "      <th>x</th>\n",
       "      <th>y</th>\n",
       "    </tr>\n",
       "  </thead>\n",
       "  <tbody>\n",
       "    <tr>\n",
       "      <th>0</th>\n",
       "      <td>0</td>\n",
       "      <td>10000100</td>\n",
       "      <td>100000640</td>\n",
       "      <td>247.365072</td>\n",
       "      <td>968.954400</td>\n",
       "    </tr>\n",
       "    <tr>\n",
       "      <th>1</th>\n",
       "      <td>0</td>\n",
       "      <td>10000100</td>\n",
       "      <td>100000830</td>\n",
       "      <td>494.712256</td>\n",
       "      <td>1937.881317</td>\n",
       "    </tr>\n",
       "    <tr>\n",
       "      <th>2</th>\n",
       "      <td>0</td>\n",
       "      <td>10000100</td>\n",
       "      <td>100001150</td>\n",
       "      <td>742.059440</td>\n",
       "      <td>2906.808234</td>\n",
       "    </tr>\n",
       "    <tr>\n",
       "      <th>3</th>\n",
       "      <td>0</td>\n",
       "      <td>10000100</td>\n",
       "      <td>100000010</td>\n",
       "      <td>989.406625</td>\n",
       "      <td>3875.735151</td>\n",
       "    </tr>\n",
       "    <tr>\n",
       "      <th>4</th>\n",
       "      <td>0</td>\n",
       "      <td>10000100</td>\n",
       "      <td>100000560</td>\n",
       "      <td>1236.753809</td>\n",
       "      <td>4844.662068</td>\n",
       "    </tr>\n",
       "  </tbody>\n",
       "</table>\n",
       "</div>"
      ],
      "text/plain": [
       "   event  particle        hit            x            y\n",
       "0      0  10000100  100000640   247.365072   968.954400\n",
       "1      0  10000100  100000830   494.712256  1937.881317\n",
       "2      0  10000100  100001150   742.059440  2906.808234\n",
       "3      0  10000100  100000010   989.406625  3875.735151\n",
       "4      0  10000100  100000560  1236.753809  4844.662068"
      ]
     },
     "execution_count": 2,
     "metadata": {},
     "output_type": "execute_result"
    }
   ],
   "source": [
    "data = pandas.read_csv('input.csv', index_col=False)\n",
    "\n",
    "data.head()"
   ]
  },
  {
   "cell_type": "markdown",
   "metadata": {},
   "source": [
    "# Hough Transform\n",
    "\n",
    "Consider a track pattern recognition method using the Hough Tramsform in polar system. In this system a circular track can be parametrized as follow:\n",
    "\n",
    "$$\n",
    "r = 2r_{0}Cos(\\phi - \\theta)\n",
    "$$\n",
    "\n",
    "where:\n",
    "* $r$ and $\\phi$ : are coordinates of a hit in the polar system.\n",
    "* $r_{0}$ and $\\theta$ : are coordinates of a center of a circular track in the polar system.\n",
    "\n",
    "A linear track corresponds to the $r_{0} = \\infty$.\n",
    "\n",
    "Transformation of cartesian coordinates of a hit to polar coordinates defined as:\n",
    "\n",
    "$$\n",
    "\\phi = arctan(\\frac{y}{x})\n",
    "$$\n",
    "$$\n",
    "r = \\sqrt{x^{2} + y^{2}}\n",
    "$$\n",
    "\n",
    "\n",
    "The Hough Transform converts a hit in $(r, \\phi)$ space to a curve in $(\\frac{1}{r_{0}}, \\theta)$ space of the track parameters as follow:\n",
    "\n",
    "$$\n",
    "\\frac{1}{r_{0}} = \\frac{2Cos(\\phi - \\theta)}{r}\n",
    "$$\n",
    "\n",
    "A linear track in this space represents as $(0, \\theta)$ point.\n",
    "\n",
    "This section demonstrates the track pattern recognition method using Hough Transfrom described above and histogramming technique. "
   ]
  },
  {
   "cell_type": "markdown",
   "metadata": {},
   "source": [
    "## One event"
   ]
  },
  {
   "cell_type": "code",
   "execution_count": 3,
   "metadata": {
    "collapsed": false
   },
   "outputs": [],
   "source": [
    "toy_event_id = 0\n",
    "event = data[data.event.values == toy_event_id]"
   ]
  },
  {
   "cell_type": "code",
   "execution_count": 4,
   "metadata": {
    "collapsed": false
   },
   "outputs": [
    {
     "name": "stdout",
     "output_type": "stream",
     "text": [
      "CPU times: user 67.4 ms, sys: 4.49 ms, total: 71.9 ms\n",
      "Wall time: 82.1 ms\n"
     ]
    }
   ],
   "source": [
    "%%time\n",
    "\n",
    "from hough import Hough\n",
    "\n",
    "h = Hough(n_theta_bins=500, n_radius_bins=500, min_radius=1500., min_hits=6)\n",
    "h.predict(event.x.values, event.y.values)\n",
    "\n",
    "matrix_hough = h.matrix_hough_\n",
    "track_inds = h.track_inds_\n",
    "track_params = h.track_params_"
   ]
  },
  {
   "cell_type": "code",
   "execution_count": 5,
   "metadata": {
    "collapsed": false
   },
   "outputs": [
    {
     "data": {
      "image/png": "[encoded data removed]",
      "text/plain": [
       "<matplotlib.figure.Figure at 0x10d241c10>"
      ]
     },
     "metadata": {},
     "output_type": "display_data"
    }
   ],
   "source": [
    "plt.figure(figsize=(12,8))\n",
    "plt.imshow(matrix_hough.T, interpolation='none', origin='lower')\n",
    "plt.title(\"Hough Transform\", size=25)\n",
    "plt.xlabel(\"Theta, bin ids\", size=25)\n",
    "plt.ylabel(\"1 / r0, bin ids\", size=25)\n",
    "plt.colorbar()\n",
    "plt.show()"
   ]
  },
  {
   "cell_type": "code",
   "execution_count": 6,
   "metadata": {
    "collapsed": false
   },
   "outputs": [
    {
     "name": "stdout",
     "output_type": "stream",
     "text": [
      "List of tracks. A track is a list of hit indexes. One hit can belong to several recognized tracks.\n"
     ]
    },
    {
     "data": {
      "text/plain": [
       "array([array([25, 26, 27, 28, 29, 30, 31]),\n",
       "       array([17, 18, 19, 20, 21, 22, 23, 59]),\n",
       "       array([106, 107, 108, 109, 110, 111]),\n",
       "       array([ 96,  97,  98,  99, 100, 101, 102, 103]),\n",
       "       array([50, 51, 52, 53, 54, 55])], dtype=object)"
      ]
     },
     "execution_count": 6,
     "metadata": {},
     "output_type": "execute_result"
    }
   ],
   "source": [
    "print \"List of tracks. A track is a list of hit indexes. One hit can belong to several recognized tracks.\"\n",
    "track_inds"
   ]
  },
  {
   "cell_type": "code",
   "execution_count": 7,
   "metadata": {
    "collapsed": false
   },
   "outputs": [
    {
     "data": {
      "image/png": "[encoded data removed]",
      "text/plain": [
       "<matplotlib.figure.Figure at 0x10d597990>"
      ]
     },
     "metadata": {},
     "output_type": "display_data"
    }
   ],
   "source": [
    "plt.figure(figsize=(8,8))\n",
    "plt.scatter(event.x.values, event.y.values)\n",
    "\n",
    "for track in track_inds:\n",
    "    \n",
    "    xs = event.x.values[track]\n",
    "    ys = event.y.values[track]\n",
    "    \n",
    "    sort_inds = xs.argsort()\n",
    "    \n",
    "    plt.plot(xs[sort_inds], ys[sort_inds])\n",
    "\n",
    "plt.title(\"Hits and Reconstructed Tracks\", size=15)\n",
    "plt.xlabel(\"x\", size=25)\n",
    "plt.ylabel(\"y\", size=25)\n",
    "plt.grid(b=1)\n",
    "plt.show()"
   ]
  },
  {
   "cell_type": "code",
   "execution_count": 8,
   "metadata": {
    "collapsed": false
   },
   "outputs": [
    {
     "data": {
      "text/plain": [
       "array([[  8.31042546e-01,   1.09552438e-04],\n",
       "       [  2.45535298e+00,   1.33600534e-06],\n",
       "       [  5.38918499e+00,   1.33600534e-06],\n",
       "       [  5.50250898e+00,   2.01736807e-04],\n",
       "       [  5.72915694e+00,   1.33600534e-06]])"
      ]
     },
     "execution_count": 8,
     "metadata": {},
     "output_type": "execute_result"
    }
   ],
   "source": [
    "track_params"
   ]
  },
  {
   "cell_type": "markdown",
   "metadata": {
    "collapsed": true
   },
   "source": [
    "## Several events\n",
    "\n",
    "**TrackRecognizer** is used to recognize tracks in several events using a track pattern recognition method. The method should has the following structure:"
   ]
  },
  {
   "cell_type": "code",
   "execution_count": 9,
   "metadata": {
    "collapsed": true
   },
   "outputs": [],
   "source": [
    "class Method(object):\n",
    "    \n",
    "    def __init__(self, params):\n",
    "        \n",
    "        # You code\n",
    "        \n",
    "        pass\n",
    "    \n",
    "    def predict(self, x, y):\n",
    "        \n",
    "        # Your code\n",
    "        \n",
    "        self.track_inds_"
   ]
  },
  {
   "cell_type": "code",
   "execution_count": 10,
   "metadata": {
    "collapsed": false
   },
   "outputs": [
    {
     "data": {
      "text/html": [
       "<div>\n",
       "<table border=\"1\" class=\"dataframe\">\n",
       "  <thead>\n",
       "    <tr style=\"text-align: right;\">\n",
       "      <th></th>\n",
       "      <th>event</th>\n",
       "      <th>track</th>\n",
       "      <th>hit</th>\n",
       "      <th>x</th>\n",
       "      <th>y</th>\n",
       "    </tr>\n",
       "  </thead>\n",
       "  <tbody>\n",
       "    <tr>\n",
       "      <th>0</th>\n",
       "      <td>0</td>\n",
       "      <td>0</td>\n",
       "      <td>100001550</td>\n",
       "      <td>1251.738174</td>\n",
       "      <td>-2726.380667</td>\n",
       "    </tr>\n",
       "    <tr>\n",
       "      <th>1</th>\n",
       "      <td>0</td>\n",
       "      <td>0</td>\n",
       "      <td>100001190</td>\n",
       "      <td>2002.381957</td>\n",
       "      <td>-3462.725299</td>\n",
       "    </tr>\n",
       "    <tr>\n",
       "      <th>2</th>\n",
       "      <td>0</td>\n",
       "      <td>0</td>\n",
       "      <td>100001630</td>\n",
       "      <td>2911.944353</td>\n",
       "      <td>-4064.551647</td>\n",
       "    </tr>\n",
       "    <tr>\n",
       "      <th>3</th>\n",
       "      <td>0</td>\n",
       "      <td>0</td>\n",
       "      <td>100000530</td>\n",
       "      <td>3974.463771</td>\n",
       "      <td>-4494.845686</td>\n",
       "    </tr>\n",
       "    <tr>\n",
       "      <th>4</th>\n",
       "      <td>0</td>\n",
       "      <td>0</td>\n",
       "      <td>100000970</td>\n",
       "      <td>5182.237773</td>\n",
       "      <td>-4705.784915</td>\n",
       "    </tr>\n",
       "  </tbody>\n",
       "</table>\n",
       "</div>"
      ],
      "text/plain": [
       "   event  track        hit            x            y\n",
       "0      0      0  100001550  1251.738174 -2726.380667\n",
       "1      0      0  100001190  2002.381957 -3462.725299\n",
       "2      0      0  100001630  2911.944353 -4064.551647\n",
       "3      0      0  100000530  3974.463771 -4494.845686\n",
       "4      0      0  100000970  5182.237773 -4705.784915"
      ]
     },
     "execution_count": 10,
     "metadata": {},
     "output_type": "execute_result"
    }
   ],
   "source": [
    "from recognizer import TrackRecognizer\n",
    "\n",
    "method = Hough(n_theta_bins=5000, n_radius_bins=1000, min_radius=400., min_hits=6)\n",
    "\n",
    "tr = TrackRecognizer(method=method)\n",
    "results = tr.predict(data)\n",
    "\n",
    "results.head()"
   ]
  },
  {
   "cell_type": "markdown",
   "metadata": {},
   "source": [
    "## Quality metrics\n",
    "\n",
    "Track recognition quality metrics described below are based on hit matching technique.\n",
    "\n",
    "**Track Finding Efficiency** (or Track Efficiency) of a track is defined as:\n",
    "\n",
    "$$\n",
    "\\epsilon = \\frac{N_{reco\\_true\\_hits}}{N_{reco\\_hits}}\n",
    "$$\n",
    "\n",
    "where:\n",
    "* $N_{reco\\_true\\_hits}$ : is the number of recognized tru hits of the track.\n",
    "* $N_{reco\\_hits}$ : is the number of recognized hits of the track.\n",
    "\n",
    "The track is considered to be reconstructed if its efficiency is higher than threshold, for example, 80%.\n",
    "\n",
    "**Reconstruction Efficiency** of an event is defined as:\n",
    "\n",
    "$$\n",
    "\\epsilon = \\frac{N_{reco\\_tracks}}{N_{tracks}}\n",
    "$$\n",
    "\n",
    "where:\n",
    "* $N_{reco\\_tracks}$ : is number of recognized tracks (without clones) of the event.\n",
    "* $N_{tracks}$ : is total number of tracks in the event.\n",
    "\n",
    "**Ghost Rate** is defined as:\n",
    "\n",
    "$$\n",
    "\\epsilon = \\frac{N_{ghost\\_tracks}}{N_{tracks}}\n",
    "$$\n",
    "\n",
    "where:\n",
    "* $N_{ghost\\_tracks}$ : is number of ghost tracks which do not reconstruct any true particle.\n",
    "* $N_{tracks}$ : is total number of tracks in the event.\n",
    "\n",
    "\n",
    "A track recognition method can recognize track of a particle multiple times. Such redundant reconstructions are called clones.\n",
    "\n",
    "**Clone Rate** is defined as:\n",
    "\n",
    "$$\n",
    "\\epsilon = \\frac{\\sum_{m} N_{m\\_track}^{clones}}{N_{tracks}}\n",
    "$$\n",
    "\n",
    "where:\n",
    "* $N_{m\\_track}^{clones}$ : is number of redundant reconstructions of the m-th track.\n",
    "* $N_{tracks}$ : is total number of tracks in the event."
   ]
  },
  {
   "cell_type": "code",
   "execution_count": 11,
   "metadata": {
    "collapsed": false
   },
   "outputs": [],
   "source": [
    "from metrics import RecognitionQuality\n",
    "\n",
    "rq = RecognitionQuality(data, results, track_eff_threshold=0.8, min_hits_per_track=6)\n",
    "report_event, report_tracks = rq.calculate()"
   ]
  },
  {
   "cell_type": "code",
   "execution_count": 12,
   "metadata": {
    "collapsed": false
   },
   "outputs": [
    {
     "data": {
      "text/html": [
       "<div>\n",
       "<table border=\"1\" class=\"dataframe\">\n",
       "  <thead>\n",
       "    <tr style=\"text-align: right;\">\n",
       "      <th></th>\n",
       "      <th>Event</th>\n",
       "      <th>ReconstructionEfficiency</th>\n",
       "      <th>GhostRate</th>\n",
       "      <th>CloneRate</th>\n",
       "      <th>AvgTrackEfficiency</th>\n",
       "    </tr>\n",
       "  </thead>\n",
       "  <tbody>\n",
       "    <tr>\n",
       "      <th>0</th>\n",
       "      <td>0</td>\n",
       "      <td>1</td>\n",
       "      <td>0.333333</td>\n",
       "      <td>4.666667</td>\n",
       "      <td>0.949493</td>\n",
       "    </tr>\n",
       "    <tr>\n",
       "      <th>1</th>\n",
       "      <td>1</td>\n",
       "      <td>1</td>\n",
       "      <td>0.000000</td>\n",
       "      <td>4.166667</td>\n",
       "      <td>0.990975</td>\n",
       "    </tr>\n",
       "    <tr>\n",
       "      <th>2</th>\n",
       "      <td>2</td>\n",
       "      <td>1</td>\n",
       "      <td>0.571429</td>\n",
       "      <td>4.571429</td>\n",
       "      <td>0.929329</td>\n",
       "    </tr>\n",
       "    <tr>\n",
       "      <th>3</th>\n",
       "      <td>3</td>\n",
       "      <td>1</td>\n",
       "      <td>0.625000</td>\n",
       "      <td>4.937500</td>\n",
       "      <td>0.892649</td>\n",
       "    </tr>\n",
       "    <tr>\n",
       "      <th>4</th>\n",
       "      <td>4</td>\n",
       "      <td>1</td>\n",
       "      <td>1.928571</td>\n",
       "      <td>4.357143</td>\n",
       "      <td>0.858312</td>\n",
       "    </tr>\n",
       "  </tbody>\n",
       "</table>\n",
       "</div>"
      ],
      "text/plain": [
       "   Event  ReconstructionEfficiency  GhostRate  CloneRate  AvgTrackEfficiency\n",
       "0      0                         1   0.333333   4.666667            0.949493\n",
       "1      1                         1   0.000000   4.166667            0.990975\n",
       "2      2                         1   0.571429   4.571429            0.929329\n",
       "3      3                         1   0.625000   4.937500            0.892649\n",
       "4      4                         1   1.928571   4.357143            0.858312"
      ]
     },
     "execution_count": 12,
     "metadata": {},
     "output_type": "execute_result"
    }
   ],
   "source": [
    "report_event.head()"
   ]
  },
  {
   "cell_type": "code",
   "execution_count": 13,
   "metadata": {
    "collapsed": false
   },
   "outputs": [
    {
     "data": {
      "text/plain": [
       "Event                       99.500000\n",
       "ReconstructionEfficiency     1.000000\n",
       "GhostRate                    0.373114\n",
       "CloneRate                    4.641422\n",
       "AvgTrackEfficiency           0.952788\n",
       "dtype: float64"
      ]
     },
     "execution_count": 13,
     "metadata": {},
     "output_type": "execute_result"
    }
   ],
   "source": [
    "report_event.mean(axis=0)"
   ]
  },
  {
   "cell_type": "code",
   "execution_count": 14,
   "metadata": {
    "collapsed": false
   },
   "outputs": [
    {
     "data": {
      "text/html": [
       "<div>\n",
       "<table border=\"1\" class=\"dataframe\">\n",
       "  <thead>\n",
       "    <tr style=\"text-align: right;\">\n",
       "      <th></th>\n",
       "      <th>Event</th>\n",
       "      <th>Track</th>\n",
       "      <th>TrackEfficiency</th>\n",
       "    </tr>\n",
       "  </thead>\n",
       "  <tbody>\n",
       "    <tr>\n",
       "      <th>0</th>\n",
       "      <td>0</td>\n",
       "      <td>0</td>\n",
       "      <td>1</td>\n",
       "    </tr>\n",
       "    <tr>\n",
       "      <th>1</th>\n",
       "      <td>0</td>\n",
       "      <td>1</td>\n",
       "      <td>1</td>\n",
       "    </tr>\n",
       "    <tr>\n",
       "      <th>2</th>\n",
       "      <td>0</td>\n",
       "      <td>2</td>\n",
       "      <td>1</td>\n",
       "    </tr>\n",
       "    <tr>\n",
       "      <th>3</th>\n",
       "      <td>0</td>\n",
       "      <td>3</td>\n",
       "      <td>1</td>\n",
       "    </tr>\n",
       "    <tr>\n",
       "      <th>4</th>\n",
       "      <td>0</td>\n",
       "      <td>4</td>\n",
       "      <td>1</td>\n",
       "    </tr>\n",
       "  </tbody>\n",
       "</table>\n",
       "</div>"
      ],
      "text/plain": [
       "   Event  Track  TrackEfficiency\n",
       "0      0      0                1\n",
       "1      0      1                1\n",
       "2      0      2                1\n",
       "3      0      3                1\n",
       "4      0      4                1"
      ]
     },
     "execution_count": 14,
     "metadata": {},
     "output_type": "execute_result"
    }
   ],
   "source": [
    "report_tracks.head()"
   ]
  },
  {
   "cell_type": "code",
   "execution_count": null,
   "metadata": {
    "collapsed": true
   },
   "outputs": [],
   "source": []
  }
 ],
 "metadata": {
  "kernelspec": {
   "display_name": "Python 2",
   "language": "python",
   "name": "python2"
  },
  "language_info": {
   "codemirror_mode": {
    "name": "ipython",
    "version": 2
   },
   "file_extension": ".py",
   "mimetype": "text/x-python",
   "name": "python",
   "nbconvert_exporter": "python",
   "pygments_lexer": "ipython2",
   "version": "2.7.11"
  }
 },
 "nbformat": 4,
 "nbformat_minor": 0
}
