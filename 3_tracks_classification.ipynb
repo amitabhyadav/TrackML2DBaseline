{
 "cells": [
  {
   "cell_type": "markdown",
   "metadata": {},
   "source": [
    "# About\n",
    "This notebook shows how Machine Learning helps to **reduce number of ghosts**."
   ]
  },
  {
   "cell_type": "code",
   "execution_count": 1,
   "metadata": {
    "collapsed": false
   },
   "outputs": [],
   "source": [
    "%matplotlib inline\n",
    "import matplotlib.pyplot as plt\n",
    "\n",
    "import pandas\n",
    "import numpy"
   ]
  },
  {
   "cell_type": "markdown",
   "metadata": {},
   "source": [
    "# Input data"
   ]
  },
  {
   "cell_type": "code",
   "execution_count": 2,
   "metadata": {
    "collapsed": false
   },
   "outputs": [
    {
     "data": {
      "text/html": [
       "<div>\n",
       "<table border=\"1\" class=\"dataframe\">\n",
       "  <thead>\n",
       "    <tr style=\"text-align: right;\">\n",
       "      <th></th>\n",
       "      <th>event</th>\n",
       "      <th>particle</th>\n",
       "      <th>layer</th>\n",
       "      <th>iphi</th>\n",
       "      <th>x</th>\n",
       "      <th>y</th>\n",
       "    </tr>\n",
       "  </thead>\n",
       "  <tbody>\n",
       "    <tr>\n",
       "      <th>0</th>\n",
       "      <td>0</td>\n",
       "      <td>0</td>\n",
       "      <td>5</td>\n",
       "      <td>39276</td>\n",
       "      <td>55.103343</td>\n",
       "      <td>-401.233874</td>\n",
       "    </tr>\n",
       "    <tr>\n",
       "      <th>1</th>\n",
       "      <td>0</td>\n",
       "      <td>6</td>\n",
       "      <td>5</td>\n",
       "      <td>22685</td>\n",
       "      <td>-381.682239</td>\n",
       "      <td>135.438799</td>\n",
       "    </tr>\n",
       "    <tr>\n",
       "      <th>2</th>\n",
       "      <td>0</td>\n",
       "      <td>3</td>\n",
       "      <td>3</td>\n",
       "      <td>6082</td>\n",
       "      <td>160.995866</td>\n",
       "      <td>139.460859</td>\n",
       "    </tr>\n",
       "    <tr>\n",
       "      <th>3</th>\n",
       "      <td>0</td>\n",
       "      <td>5</td>\n",
       "      <td>2</td>\n",
       "      <td>27787</td>\n",
       "      <td>-35.433651</td>\n",
       "      <td>-150.895515</td>\n",
       "    </tr>\n",
       "    <tr>\n",
       "      <th>4</th>\n",
       "      <td>0</td>\n",
       "      <td>5</td>\n",
       "      <td>1</td>\n",
       "      <td>15230</td>\n",
       "      <td>-19.627350</td>\n",
       "      <td>-82.702885</td>\n",
       "    </tr>\n",
       "  </tbody>\n",
       "</table>\n",
       "</div>"
      ],
      "text/plain": [
       "   event  particle  layer   iphi           x           y\n",
       "0      0         0      5  39276   55.103343 -401.233874\n",
       "1      0         6      5  22685 -381.682239  135.438799\n",
       "2      0         3      3   6082  160.995866  139.460859\n",
       "3      0         5      2  27787  -35.433651 -150.895515\n",
       "4      0         5      1  15230  -19.627350  -82.702885"
      ]
     },
     "execution_count": 2,
     "metadata": {},
     "output_type": "execute_result"
    }
   ],
   "source": [
    "data = pandas.read_csv('hits_1000.csv', index_col=False)\n",
    "data = data[data.event.values < 200]\n",
    "\n",
    "data.head()"
   ]
  },
  {
   "cell_type": "markdown",
   "metadata": {},
   "source": [
    "# Split Data into Train/Test Samples"
   ]
  },
  {
   "cell_type": "code",
   "execution_count": 3,
   "metadata": {
    "collapsed": true
   },
   "outputs": [],
   "source": [
    "from sklearn.cross_validation import train_test_split\n",
    "\n",
    "event_ids = numpy.unique(data.event.values)\n",
    "\n",
    "event_ids_train, event_ids_test = train_test_split(event_ids, \n",
    "                                                   test_size=0.5, \n",
    "                                                   random_state=42)\n",
    "\n",
    "data_train = data[data.event.isin(event_ids_train)]\n",
    "data_test = data[data.event.isin(event_ids_test)]"
   ]
  },
  {
   "cell_type": "markdown",
   "metadata": {},
   "source": [
    "# Tracks Classification"
   ]
  },
  {
   "cell_type": "markdown",
   "metadata": {},
   "source": [
    "## Track Recognition for Train Sample\n",
    "\n",
    "The recognized tracks will be used to train a tracks classifier."
   ]
  },
  {
   "cell_type": "code",
   "execution_count": 4,
   "metadata": {
    "collapsed": true
   },
   "outputs": [],
   "source": [
    "from hough import Hough\n",
    "from recognizer import TrackRecognizer\n",
    "from metrics import RecognitionQuality\n",
    "\n",
    "\n",
    "h = Hough(n_theta_bins=5000, n_radius_bins=1000, min_radius=20., min_hits=6)\n",
    "\n",
    "tr = TrackRecognizer(method=h)\n",
    "reco_results = tr.predict(data_train)\n",
    "\n",
    "rq = RecognitionQuality(data_train, reco_results, track_eff_threshold=0.8, min_hits_per_track=6)\n",
    "report_event, report_tracks = rq.calculate()"
   ]
  },
  {
   "cell_type": "markdown",
   "metadata": {},
   "source": [
    "## Track Features Generation\n",
    "\n",
    "The following function calculate track features which will be used to tracin the classifier."
   ]
  },
  {
   "cell_type": "code",
   "execution_count": 5,
   "metadata": {
    "collapsed": true
   },
   "outputs": [],
   "source": [
    "from regression import TrackRegression\n",
    "\n",
    "def track_features(x, y):\n",
    "    \n",
    "    n_hits = len(x)\n",
    "    \n",
    "    tr = TrackRegression()\n",
    "    tr.fit(x, y)\n",
    "\n",
    "    theta, invr = tr.theta_, tr.invr_\n",
    "    \n",
    "    phi = numpy.arctan(y / x) * (x != 0) + numpy.pi * (x < 0) + 0.5 * numpy.pi * (x==0) * (y>0) + 1.5 * numpy.pi * (x==0) * (y<0)\n",
    "    r = numpy.sqrt(x**2 + y**2)\n",
    "    \n",
    "    x_pred, y_pred = tr.predict(phi)\n",
    "    \n",
    "    rmse = numpy.sqrt(((y - y_pred)**2).sum())\n",
    "    \n",
    "    return n_hits, theta, invr, rmse"
   ]
  },
  {
   "cell_type": "markdown",
   "metadata": {},
   "source": [
    "Calculation the track feature values for the all recognized tracks in the train sample events."
   ]
  },
  {
   "cell_type": "code",
   "execution_count": 6,
   "metadata": {
    "collapsed": false
   },
   "outputs": [],
   "source": [
    "XX = []\n",
    "labels = []\n",
    "\n",
    "for event_id in numpy.unique(reco_results.event.values):\n",
    "    \n",
    "    event = reco_results[reco_results.event.values == event_id]\n",
    "    \n",
    "    for track_id in numpy.unique(event.track.values):\n",
    "        \n",
    "        track = event[event.track.values == track_id]\n",
    "        \n",
    "        features = track_features(track.x.values, track.y.values)\n",
    "        \n",
    "        XX.append(features)\n",
    "        \n",
    "        track_eff = report_tracks[(report_tracks.Event.values == event_id)*(report_tracks.Track.values == track_id)]\n",
    "        label = (track_eff.TrackEfficiency.values[0] >= 0.8) * 1.\n",
    "        \n",
    "        labels += [label]\n",
    "        \n",
    "XX = numpy.array(XX)\n",
    "labels = numpy.array(labels)"
   ]
  },
  {
   "cell_type": "markdown",
   "metadata": {},
   "source": [
    "## Train/Test Split"
   ]
  },
  {
   "cell_type": "code",
   "execution_count": 7,
   "metadata": {
    "collapsed": true
   },
   "outputs": [],
   "source": [
    "X_train, X_test, y_train, y_test = train_test_split(XX, \n",
    "                                                    labels, \n",
    "                                                    test_size=0.5, \n",
    "                                                    random_state=42)"
   ]
  },
  {
   "cell_type": "markdown",
   "metadata": {},
   "source": [
    "## Sample Weights"
   ]
  },
  {
   "cell_type": "code",
   "execution_count": 8,
   "metadata": {
    "collapsed": false
   },
   "outputs": [],
   "source": [
    "weights = numpy.zeros(len(y_train))\n",
    "weights += 1. * len(y_train) / len(y_train[y_train == 0]) * (y_train == 0) + \\\n",
    "           1. * len(y_train) / len(y_train[y_train == 1]) * (y_train == 1)"
   ]
  },
  {
   "cell_type": "markdown",
   "metadata": {},
   "source": [
    "## Classification\n",
    "\n",
    "Train the classifier to separate good and ghost tracks."
   ]
  },
  {
   "cell_type": "code",
   "execution_count": 9,
   "metadata": {
    "collapsed": false
   },
   "outputs": [
    {
     "data": {
      "text/plain": [
       "RandomForestClassifier(bootstrap=True, class_weight=None, criterion='gini',\n",
       "            max_depth=None, max_features='auto', max_leaf_nodes=None,\n",
       "            min_samples_leaf=1, min_samples_split=2,\n",
       "            min_weight_fraction_leaf=0.0, n_estimators=1000, n_jobs=1,\n",
       "            oob_score=False, random_state=None, verbose=0,\n",
       "            warm_start=False)"
      ]
     },
     "execution_count": 9,
     "metadata": {},
     "output_type": "execute_result"
    }
   ],
   "source": [
    "from sklearn.ensemble import RandomForestClassifier\n",
    "\n",
    "clf = RandomForestClassifier(n_estimators=1000)\n",
    "clf.fit(X_train, y_train, sample_weight=weights)"
   ]
  },
  {
   "cell_type": "code",
   "execution_count": 10,
   "metadata": {
    "collapsed": true
   },
   "outputs": [],
   "source": [
    "y_proba_test = clf.predict_proba(X_test)[:, 1]"
   ]
  },
  {
   "cell_type": "code",
   "execution_count": 11,
   "metadata": {
    "collapsed": false
   },
   "outputs": [
    {
     "data": {
      "image/png": "[encoded data removed]",
      "text/plain": [
       "<matplotlib.figure.Figure at 0x1101865d0>"
      ]
     },
     "metadata": {},
     "output_type": "display_data"
    }
   ],
   "source": [
    "from sklearn.metrics import roc_curve, roc_auc_score\n",
    "\n",
    "plt.figure(figsize=(12, 8))\n",
    "\n",
    "fpr, tpr, _ = roc_curve(y_test, y_proba_test)\n",
    "roc_auc = roc_auc_score(y_test, y_proba_test)\n",
    "\n",
    "plt.plot(fpr, tpr, label='ROC AUC = %.3f' %roc_auc, color='b', linewidth=5)\n",
    "\n",
    "plt.legend(loc=\"best\", prop={'size':20},  shadow=True, fancybox=True)\n",
    "\n",
    "plt.title(\"ROC Curve\", fontsize=25)\n",
    "plt.xlabel('False Positive Rate', fontsize=25)\n",
    "plt.ylabel('True Positive Rate', fontsize=25)\n",
    "plt.xticks(fontsize=25)\n",
    "plt.yticks(fontsize=25)\n",
    "plt.grid(linewidth=1)\n",
    "plt.show()"
   ]
  },
  {
   "cell_type": "code",
   "execution_count": 12,
   "metadata": {
    "collapsed": false
   },
   "outputs": [
    {
     "data": {
      "image/png": "[encoded data removed]",
      "text/plain": [
       "<matplotlib.figure.Figure at 0x1101a8bd0>"
      ]
     },
     "metadata": {},
     "output_type": "display_data"
    }
   ],
   "source": [
    "plt.figure(figsize=(12, 4))\n",
    "plt.hist(y_proba_test[y_test==1], bins=numpy.linspace(0, 1, 21), alpha=0.5, color='r', label='Good tracks, 1', normed=True)\n",
    "plt.hist(y_proba_test[y_test==0], bins=numpy.linspace(0, 1, 21), alpha=0.5, color='b', label='Ghosts, 0', normed=True)\n",
    "plt.legend(loc=\"best\", prop={'size':20},  shadow=True, fancybox=True)\n",
    "\n",
    "plt.title(\"Ghosts (0) and Good (1) Tracks Distribution\", fontsize=20)\n",
    "plt.xlabel('Classifier Output', fontsize=20)\n",
    "plt.xticks(fontsize=20)\n",
    "plt.yticks(fontsize=20)\n",
    "plt.grid(linewidth=1)\n",
    "plt.show()"
   ]
  },
  {
   "cell_type": "markdown",
   "metadata": {},
   "source": [
    "# Hough Transform Modification\n",
    "\n",
    "Modify the Hough Transform method to be able to use the trained classifier."
   ]
  },
  {
   "cell_type": "code",
   "execution_count": 13,
   "metadata": {
    "collapsed": true
   },
   "outputs": [],
   "source": [
    "from hough import Hough\n",
    "from regression import TrackRegression\n",
    "\n",
    "class ModifiedHough(Hough):\n",
    "    \n",
    "    def __init__(self, n_theta_bins=5000, n_radius_bins=1000, min_radius=20., min_hits=7, classifier=None):\n",
    "        \n",
    "        self.classifier = classifier\n",
    "        \n",
    "        Hough.__init__(self, n_theta_bins, n_radius_bins, min_radius, min_hits)\n",
    "    \n",
    "    def new_track_inds(self, track_inds, x, y, classifier):\n",
    "        \n",
    "        if classifier == None:\n",
    "            return track_inds\n",
    "\n",
    "        XX = []\n",
    "        \n",
    "        for track in track_inds:\n",
    "            \n",
    "            features = track_features(x[track], y[track])\n",
    "            XX.append(features)\n",
    "            \n",
    "        XX = numpy.array(XX)\n",
    "        \n",
    "        labels_pred = classifier.predict_proba(XX)[:, 1]\n",
    "        \n",
    "        track_inds = numpy.array(track_inds)\n",
    "        new_track_inds = track_inds[labels_pred >= 0.5] # Larger the threshold value, better the ghosts reduction\n",
    "\n",
    "        return new_track_inds\n",
    "\n",
    "    \n",
    "    def predict(self, x, y): # This method must be!\n",
    "        \n",
    "        Hough.predict(self, x, y)\n",
    "        \n",
    "        self.track_inds_ = self.new_track_inds(self.track_inds_, x, y, self.classifier) # This attribute must be!"
   ]
  },
  {
   "cell_type": "markdown",
   "metadata": {
    "collapsed": true
   },
   "source": [
    "## Test Events"
   ]
  },
  {
   "cell_type": "code",
   "execution_count": 14,
   "metadata": {
    "collapsed": false
   },
   "outputs": [
    {
     "data": {
      "text/html": [
       "<div>\n",
       "<table border=\"1\" class=\"dataframe\">\n",
       "  <thead>\n",
       "    <tr style=\"text-align: right;\">\n",
       "      <th></th>\n",
       "      <th>event</th>\n",
       "      <th>track</th>\n",
       "      <th>hit_index</th>\n",
       "      <th>x</th>\n",
       "      <th>y</th>\n",
       "    </tr>\n",
       "  </thead>\n",
       "  <tbody>\n",
       "    <tr>\n",
       "      <th>0</th>\n",
       "      <td>2</td>\n",
       "      <td>0</td>\n",
       "      <td>164</td>\n",
       "      <td>0.949988</td>\n",
       "      <td>-154.997089</td>\n",
       "    </tr>\n",
       "    <tr>\n",
       "      <th>1</th>\n",
       "      <td>2</td>\n",
       "      <td>0</td>\n",
       "      <td>165</td>\n",
       "      <td>1.531229</td>\n",
       "      <td>-212.994496</td>\n",
       "    </tr>\n",
       "    <tr>\n",
       "      <th>2</th>\n",
       "      <td>2</td>\n",
       "      <td>0</td>\n",
       "      <td>175</td>\n",
       "      <td>5.374821</td>\n",
       "      <td>-404.964333</td>\n",
       "    </tr>\n",
       "    <tr>\n",
       "      <th>3</th>\n",
       "      <td>2</td>\n",
       "      <td>0</td>\n",
       "      <td>191</td>\n",
       "      <td>2.362461</td>\n",
       "      <td>-270.989702</td>\n",
       "    </tr>\n",
       "    <tr>\n",
       "      <th>4</th>\n",
       "      <td>2</td>\n",
       "      <td>0</td>\n",
       "      <td>193</td>\n",
       "      <td>38.890099</td>\n",
       "      <td>-999.243494</td>\n",
       "    </tr>\n",
       "  </tbody>\n",
       "</table>\n",
       "</div>"
      ],
      "text/plain": [
       "   event  track  hit_index          x           y\n",
       "0      2      0        164   0.949988 -154.997089\n",
       "1      2      0        165   1.531229 -212.994496\n",
       "2      2      0        175   5.374821 -404.964333\n",
       "3      2      0        191   2.362461 -270.989702\n",
       "4      2      0        193  38.890099 -999.243494"
      ]
     },
     "execution_count": 14,
     "metadata": {},
     "output_type": "execute_result"
    }
   ],
   "source": [
    "from recognizer import TrackRecognizer\n",
    "\n",
    "method = ModifiedHough(n_theta_bins=5000, n_radius_bins=1000, min_radius=20., min_hits=6, classifier=clf)\n",
    "\n",
    "tr = TrackRecognizer(method=method)\n",
    "results = tr.predict(data_test)\n",
    "\n",
    "results.head()"
   ]
  },
  {
   "cell_type": "markdown",
   "metadata": {},
   "source": [
    "## Quality metrics"
   ]
  },
  {
   "cell_type": "code",
   "execution_count": 15,
   "metadata": {
    "collapsed": false
   },
   "outputs": [],
   "source": [
    "from metrics import RecognitionQuality\n",
    "\n",
    "rq = RecognitionQuality(data_test, results, track_eff_threshold=0.8, min_hits_per_track=6)\n",
    "report_event, report_tracks = rq.calculate()"
   ]
  },
  {
   "cell_type": "code",
   "execution_count": 16,
   "metadata": {
    "collapsed": false
   },
   "outputs": [
    {
     "data": {
      "text/plain": [
       "Event                       98.520000\n",
       "ReconstructionEfficiency     0.928671\n",
       "GhostRate                    0.289605\n",
       "CloneRate                    4.211038\n",
       "AvgTrackEfficiency           0.965861\n",
       "dtype: float64"
      ]
     },
     "execution_count": 16,
     "metadata": {},
     "output_type": "execute_result"
    }
   ],
   "source": [
    "report_event.mean(axis=0)"
   ]
  },
  {
   "cell_type": "code",
   "execution_count": null,
   "metadata": {
    "collapsed": true
   },
   "outputs": [],
   "source": []
  }
 ],
 "metadata": {
  "kernelspec": {
   "display_name": "Python 2",
   "language": "python",
   "name": "python2"
  },
  "language_info": {
   "codemirror_mode": {
    "name": "ipython",
    "version": 2
   },
   "file_extension": ".py",
   "mimetype": "text/x-python",
   "name": "python",
   "nbconvert_exporter": "python",
   "pygments_lexer": "ipython2",
   "version": "2.7.11"
  }
 },
 "nbformat": 4,
 "nbformat_minor": 0
}
