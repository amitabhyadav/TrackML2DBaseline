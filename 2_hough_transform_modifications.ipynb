{
 "cells": [
  {
   "cell_type": "code",
   "execution_count": 1,
   "metadata": {
    "collapsed": false
   },
   "outputs": [],
   "source": [
    "%matplotlib inline\n",
    "import matplotlib.pyplot as plt\n",
    "\n",
    "import pandas\n",
    "import numpy"
   ]
  },
  {
   "cell_type": "markdown",
   "metadata": {},
   "source": [
    "# Input data"
   ]
  },
  {
   "cell_type": "code",
   "execution_count": 2,
   "metadata": {
    "collapsed": false
   },
   "outputs": [
    {
     "data": {
      "text/html": [
       "<div>\n",
       "<table border=\"1\" class=\"dataframe\">\n",
       "  <thead>\n",
       "    <tr style=\"text-align: right;\">\n",
       "      <th></th>\n",
       "      <th>event</th>\n",
       "      <th>particle</th>\n",
       "      <th>hit</th>\n",
       "      <th>x</th>\n",
       "      <th>y</th>\n",
       "    </tr>\n",
       "  </thead>\n",
       "  <tbody>\n",
       "    <tr>\n",
       "      <th>0</th>\n",
       "      <td>0</td>\n",
       "      <td>10000100</td>\n",
       "      <td>100000640</td>\n",
       "      <td>247.365072</td>\n",
       "      <td>968.954400</td>\n",
       "    </tr>\n",
       "    <tr>\n",
       "      <th>1</th>\n",
       "      <td>0</td>\n",
       "      <td>10000100</td>\n",
       "      <td>100000830</td>\n",
       "      <td>494.712256</td>\n",
       "      <td>1937.881317</td>\n",
       "    </tr>\n",
       "    <tr>\n",
       "      <th>2</th>\n",
       "      <td>0</td>\n",
       "      <td>10000100</td>\n",
       "      <td>100001150</td>\n",
       "      <td>742.059440</td>\n",
       "      <td>2906.808234</td>\n",
       "    </tr>\n",
       "    <tr>\n",
       "      <th>3</th>\n",
       "      <td>0</td>\n",
       "      <td>10000100</td>\n",
       "      <td>100000010</td>\n",
       "      <td>989.406625</td>\n",
       "      <td>3875.735151</td>\n",
       "    </tr>\n",
       "    <tr>\n",
       "      <th>4</th>\n",
       "      <td>0</td>\n",
       "      <td>10000100</td>\n",
       "      <td>100000560</td>\n",
       "      <td>1236.753809</td>\n",
       "      <td>4844.662068</td>\n",
       "    </tr>\n",
       "  </tbody>\n",
       "</table>\n",
       "</div>"
      ],
      "text/plain": [
       "   event  particle        hit            x            y\n",
       "0      0  10000100  100000640   247.365072   968.954400\n",
       "1      0  10000100  100000830   494.712256  1937.881317\n",
       "2      0  10000100  100001150   742.059440  2906.808234\n",
       "3      0  10000100  100000010   989.406625  3875.735151\n",
       "4      0  10000100  100000560  1236.753809  4844.662068"
      ]
     },
     "execution_count": 2,
     "metadata": {},
     "output_type": "execute_result"
    }
   ],
   "source": [
    "data = pandas.read_csv('input.csv', index_col=False)\n",
    "\n",
    "data.head()"
   ]
  },
  {
   "cell_type": "markdown",
   "metadata": {},
   "source": [
    "# Hough Transform Modification"
   ]
  },
  {
   "cell_type": "code",
   "execution_count": 3,
   "metadata": {
    "collapsed": true
   },
   "outputs": [],
   "source": [
    "from hough import Hough\n",
    "from regression import TrackRegression\n",
    "\n",
    "class ModifiedHough(Hough):\n",
    "    \n",
    "    def new_track_inds(self, track_inds, n_hits):\n",
    "\n",
    "        used = numpy.zeros(n_hits)\n",
    "        new_track_inds = []\n",
    "\n",
    "\n",
    "        while 1:\n",
    "\n",
    "            track_lens = numpy.array([len(i[used[i] == 0]) for i in track_inds])\n",
    "            \n",
    "            if len(track_lens) == 0:\n",
    "                break\n",
    "                \n",
    "            max_len = track_lens.max()\n",
    "\n",
    "            if max_len < self.min_hits:\n",
    "                break\n",
    "\n",
    "            one_track_inds = track_inds[track_lens == track_lens.max()][0]\n",
    "            one_track_inds = one_track_inds[used[one_track_inds] == 0]\n",
    "\n",
    "            used[one_track_inds] = 1\n",
    "            new_track_inds.append(numpy.array(one_track_inds))\n",
    "\n",
    "        return numpy.array(new_track_inds)\n",
    "    \n",
    "    def new_track_params(self, track_inds, x, y):\n",
    "        \n",
    "        new_track_params = []\n",
    "        \n",
    "        for track in track_inds:\n",
    "            \n",
    "            tr = TrackRegression()\n",
    "            tr.fit(x[track], y[track])\n",
    "            \n",
    "            new_track_params.append([tr.theta_, tr.invr_])\n",
    "            \n",
    "        return numpy.array(new_track_params)\n",
    "\n",
    "    \n",
    "    def predict(self, x, y): # This method must be!\n",
    "        \n",
    "        Hough.predict(self, x, y)\n",
    "        \n",
    "        self.track_inds_ = self.new_track_inds(self.track_inds_, len(x)) # This attribute must be!\n",
    "        self.track_params_ = self.new_track_params(self.track_inds_, x, y) # This attribute is optional"
   ]
  },
  {
   "cell_type": "markdown",
   "metadata": {},
   "source": [
    "## One event"
   ]
  },
  {
   "cell_type": "code",
   "execution_count": 4,
   "metadata": {
    "collapsed": false
   },
   "outputs": [],
   "source": [
    "toy_event_id = 0\n",
    "event = data[data.event.values == toy_event_id]"
   ]
  },
  {
   "cell_type": "code",
   "execution_count": 5,
   "metadata": {
    "collapsed": false
   },
   "outputs": [],
   "source": [
    "from hough import Hough\n",
    "\n",
    "h = ModifiedHough(n_theta_bins=5000, n_radius_bins=1000, min_radius=400., min_hits=6)\n",
    "h.predict(event.x.values, event.y.values)\n",
    "\n",
    "matrix_hough = h.matrix_hough_\n",
    "track_inds = h.track_inds_\n",
    "track_params = h.track_params_"
   ]
  },
  {
   "cell_type": "code",
   "execution_count": 6,
   "metadata": {
    "collapsed": false
   },
   "outputs": [
    {
     "name": "stdout",
     "output_type": "stream",
     "text": [
      "List of tracks. A track is a list of hit indexes. One hit can belong to several recognized tracks.\n"
     ]
    },
    {
     "data": {
      "text/plain": [
       "array([array([16, 17, 18, 19, 20, 21, 22, 23, 59]),\n",
       "       array([  0,   1,   2,   3,   4,   5,   6,   7, 100]),\n",
       "       array([64, 65, 66, 67, 68, 69, 70, 71, 78]),\n",
       "       array([40, 41, 42, 43, 44, 45, 46, 47]),\n",
       "       array([24, 25, 26, 27, 28, 29, 30, 31]),\n",
       "       array([112, 113, 114, 115, 116, 117, 118, 119]),\n",
       "       array([80, 81, 82, 83, 84, 85, 86, 87]),\n",
       "       array([ 8,  9, 10, 11, 12, 13, 14, 15]),\n",
       "       array([32, 33, 34, 35, 36, 37, 38, 39]),\n",
       "       array([104, 105, 106, 107, 108, 109, 110, 111]),\n",
       "       array([48, 49, 50, 51, 52, 53, 54, 55]),\n",
       "       array([88, 89, 90, 91, 92, 93, 94, 95]),\n",
       "       array([72, 73, 74, 75, 76, 77, 79]),\n",
       "       array([56, 57, 58, 60, 61, 62, 63]),\n",
       "       array([ 96,  97,  98,  99, 101, 102, 103])], dtype=object)"
      ]
     },
     "execution_count": 6,
     "metadata": {},
     "output_type": "execute_result"
    }
   ],
   "source": [
    "print \"List of tracks. A track is a list of hit indexes. One hit can belong to several recognized tracks.\"\n",
    "track_inds"
   ]
  },
  {
   "cell_type": "code",
   "execution_count": 7,
   "metadata": {
    "collapsed": false
   },
   "outputs": [
    {
     "data": {
      "image/png": "[encoded data removed]",
      "text/plain": [
       "<matplotlib.figure.Figure at 0x1110ac910>"
      ]
     },
     "metadata": {},
     "output_type": "display_data"
    }
   ],
   "source": [
    "plt.figure(figsize=(8,8))\n",
    "plt.scatter(event.x.values, event.y.values)\n",
    "\n",
    "for track in track_inds:\n",
    "    \n",
    "    xs = event.x.values[track]\n",
    "    ys = event.y.values[track]\n",
    "    \n",
    "    sort_inds = xs.argsort()\n",
    "    \n",
    "    plt.plot(xs[sort_inds], ys[sort_inds])\n",
    "\n",
    "plt.title(\"Hits and Reconstructed Tracks\", size=15)\n",
    "plt.xlabel(\"x\", size=25)\n",
    "plt.ylabel(\"y\", size=25)\n",
    "plt.grid(b=1)\n",
    "plt.show()"
   ]
  },
  {
   "cell_type": "code",
   "execution_count": 8,
   "metadata": {
    "collapsed": false
   },
   "outputs": [
    {
     "data": {
      "text/plain": [
       "array([[  2.45556436e+00,   3.43875510e-07],\n",
       "       [  2.89004877e+00,   7.10356645e-07],\n",
       "       [  4.44774161e+00,   4.21584774e-06],\n",
       "       [  1.59683455e-01,   1.78288375e-04],\n",
       "       [  8.31763492e-01,   1.08269148e-04],\n",
       "       [  9.29312829e-01,   1.55359343e-09],\n",
       "       [  1.03848807e+00,   1.05249149e-04],\n",
       "       [  1.73543774e+00,   8.18310528e-09],\n",
       "       [  2.05872307e+00,   6.76872148e-05],\n",
       "       [ -8.95556620e-01,   1.24655614e-09],\n",
       "       [ -5.55415767e-01,   8.68024384e-09],\n",
       "       [ -1.32378326e+00,   1.24762135e-04],\n",
       "       [  9.48046653e-01,   9.61801928e-05],\n",
       "       [  2.79181522e+00,   1.65298233e-04],\n",
       "       [ -7.80518216e-01,   2.01243536e-04]])"
      ]
     },
     "execution_count": 8,
     "metadata": {},
     "output_type": "execute_result"
    }
   ],
   "source": [
    "track_params"
   ]
  },
  {
   "cell_type": "markdown",
   "metadata": {
    "collapsed": true
   },
   "source": [
    "## Several events\n",
    "\n",
    "**TrackRecognizer** is used to recognize tracks in several events using a track pattern recognition method. The method should has the following structure:"
   ]
  },
  {
   "cell_type": "code",
   "execution_count": 9,
   "metadata": {
    "collapsed": true
   },
   "outputs": [],
   "source": [
    "class Method(object):\n",
    "    \n",
    "    def __init__(self, params):\n",
    "        \n",
    "        # You code\n",
    "        \n",
    "        pass\n",
    "    \n",
    "    def predict(self, x, y):\n",
    "        \n",
    "        # Your code\n",
    "        \n",
    "        self.track_inds_"
   ]
  },
  {
   "cell_type": "code",
   "execution_count": 10,
   "metadata": {
    "collapsed": false
   },
   "outputs": [
    {
     "data": {
      "text/html": [
       "<div>\n",
       "<table border=\"1\" class=\"dataframe\">\n",
       "  <thead>\n",
       "    <tr style=\"text-align: right;\">\n",
       "      <th></th>\n",
       "      <th>event</th>\n",
       "      <th>track</th>\n",
       "      <th>hit</th>\n",
       "      <th>x</th>\n",
       "      <th>y</th>\n",
       "    </tr>\n",
       "  </thead>\n",
       "  <tbody>\n",
       "    <tr>\n",
       "      <th>0</th>\n",
       "      <td>0</td>\n",
       "      <td>0</td>\n",
       "      <td>100000550</td>\n",
       "      <td>632.860081</td>\n",
       "      <td>774.256419</td>\n",
       "    </tr>\n",
       "    <tr>\n",
       "      <th>1</th>\n",
       "      <td>0</td>\n",
       "      <td>0</td>\n",
       "      <td>100001090</td>\n",
       "      <td>1265.733776</td>\n",
       "      <td>1548.511471</td>\n",
       "    </tr>\n",
       "    <tr>\n",
       "      <th>2</th>\n",
       "      <td>0</td>\n",
       "      <td>0</td>\n",
       "      <td>100000320</td>\n",
       "      <td>1898.607472</td>\n",
       "      <td>2322.766523</td>\n",
       "    </tr>\n",
       "    <tr>\n",
       "      <th>3</th>\n",
       "      <td>0</td>\n",
       "      <td>0</td>\n",
       "      <td>100001370</td>\n",
       "      <td>2531.481167</td>\n",
       "      <td>3097.021575</td>\n",
       "    </tr>\n",
       "    <tr>\n",
       "      <th>4</th>\n",
       "      <td>0</td>\n",
       "      <td>0</td>\n",
       "      <td>100000300</td>\n",
       "      <td>3164.354863</td>\n",
       "      <td>3871.276627</td>\n",
       "    </tr>\n",
       "  </tbody>\n",
       "</table>\n",
       "</div>"
      ],
      "text/plain": [
       "   event  track        hit            x            y\n",
       "0      0      0  100000550   632.860081   774.256419\n",
       "1      0      0  100001090  1265.733776  1548.511471\n",
       "2      0      0  100000320  1898.607472  2322.766523\n",
       "3      0      0  100001370  2531.481167  3097.021575\n",
       "4      0      0  100000300  3164.354863  3871.276627"
      ]
     },
     "execution_count": 10,
     "metadata": {},
     "output_type": "execute_result"
    }
   ],
   "source": [
    "from recognizer import TrackRecognizer\n",
    "\n",
    "method = ModifiedHough(n_theta_bins=5000, n_radius_bins=1000, min_radius=400., min_hits=6)\n",
    "\n",
    "tr = TrackRecognizer(method=method)\n",
    "results = tr.predict(data)\n",
    "\n",
    "results.head()"
   ]
  },
  {
   "cell_type": "markdown",
   "metadata": {},
   "source": [
    "## Quality metrics"
   ]
  },
  {
   "cell_type": "code",
   "execution_count": 11,
   "metadata": {
    "collapsed": false
   },
   "outputs": [],
   "source": [
    "from metrics import RecognitionQuality\n",
    "\n",
    "rq = RecognitionQuality(data, results, track_eff_threshold=0.8, min_hits_per_track=6)\n",
    "report_event, report_tracks = rq.calculate()"
   ]
  },
  {
   "cell_type": "code",
   "execution_count": 12,
   "metadata": {
    "collapsed": false
   },
   "outputs": [
    {
     "data": {
      "text/html": [
       "<div>\n",
       "<table border=\"1\" class=\"dataframe\">\n",
       "  <thead>\n",
       "    <tr style=\"text-align: right;\">\n",
       "      <th></th>\n",
       "      <th>Event</th>\n",
       "      <th>ReconstructionEfficiency</th>\n",
       "      <th>GhostRate</th>\n",
       "      <th>CloneRate</th>\n",
       "      <th>AvgTrackEfficiency</th>\n",
       "    </tr>\n",
       "  </thead>\n",
       "  <tbody>\n",
       "    <tr>\n",
       "      <th>0</th>\n",
       "      <td>0</td>\n",
       "      <td>1.000000</td>\n",
       "      <td>0.000000</td>\n",
       "      <td>0</td>\n",
       "      <td>0.977778</td>\n",
       "    </tr>\n",
       "    <tr>\n",
       "      <th>1</th>\n",
       "      <td>1</td>\n",
       "      <td>1.000000</td>\n",
       "      <td>0.000000</td>\n",
       "      <td>0</td>\n",
       "      <td>1.000000</td>\n",
       "    </tr>\n",
       "    <tr>\n",
       "      <th>2</th>\n",
       "      <td>2</td>\n",
       "      <td>0.857143</td>\n",
       "      <td>0.071429</td>\n",
       "      <td>0</td>\n",
       "      <td>0.942308</td>\n",
       "    </tr>\n",
       "    <tr>\n",
       "      <th>3</th>\n",
       "      <td>3</td>\n",
       "      <td>1.000000</td>\n",
       "      <td>0.000000</td>\n",
       "      <td>0</td>\n",
       "      <td>0.957465</td>\n",
       "    </tr>\n",
       "    <tr>\n",
       "      <th>4</th>\n",
       "      <td>4</td>\n",
       "      <td>0.857143</td>\n",
       "      <td>0.071429</td>\n",
       "      <td>0</td>\n",
       "      <td>0.953380</td>\n",
       "    </tr>\n",
       "  </tbody>\n",
       "</table>\n",
       "</div>"
      ],
      "text/plain": [
       "   Event  ReconstructionEfficiency  GhostRate  CloneRate  AvgTrackEfficiency\n",
       "0      0                  1.000000   0.000000          0            0.977778\n",
       "1      1                  1.000000   0.000000          0            1.000000\n",
       "2      2                  0.857143   0.071429          0            0.942308\n",
       "3      3                  1.000000   0.000000          0            0.957465\n",
       "4      4                  0.857143   0.071429          0            0.953380"
      ]
     },
     "execution_count": 12,
     "metadata": {},
     "output_type": "execute_result"
    }
   ],
   "source": [
    "report_event.head()"
   ]
  },
  {
   "cell_type": "code",
   "execution_count": 13,
   "metadata": {
    "collapsed": false
   },
   "outputs": [
    {
     "data": {
      "text/plain": [
       "Event                       99.500000\n",
       "ReconstructionEfficiency     0.981688\n",
       "GhostRate                    0.010356\n",
       "CloneRate                    0.000000\n",
       "AvgTrackEfficiency           0.979373\n",
       "dtype: float64"
      ]
     },
     "execution_count": 13,
     "metadata": {},
     "output_type": "execute_result"
    }
   ],
   "source": [
    "report_event.mean(axis=0)"
   ]
  },
  {
   "cell_type": "code",
   "execution_count": 14,
   "metadata": {
    "collapsed": false
   },
   "outputs": [
    {
     "data": {
      "text/html": [
       "<div>\n",
       "<table border=\"1\" class=\"dataframe\">\n",
       "  <thead>\n",
       "    <tr style=\"text-align: right;\">\n",
       "      <th></th>\n",
       "      <th>Event</th>\n",
       "      <th>Track</th>\n",
       "      <th>TrackEfficiency</th>\n",
       "    </tr>\n",
       "  </thead>\n",
       "  <tbody>\n",
       "    <tr>\n",
       "      <th>0</th>\n",
       "      <td>0</td>\n",
       "      <td>0</td>\n",
       "      <td>0.888889</td>\n",
       "    </tr>\n",
       "    <tr>\n",
       "      <th>1</th>\n",
       "      <td>0</td>\n",
       "      <td>1</td>\n",
       "      <td>0.888889</td>\n",
       "    </tr>\n",
       "    <tr>\n",
       "      <th>2</th>\n",
       "      <td>0</td>\n",
       "      <td>2</td>\n",
       "      <td>0.888889</td>\n",
       "    </tr>\n",
       "    <tr>\n",
       "      <th>3</th>\n",
       "      <td>0</td>\n",
       "      <td>3</td>\n",
       "      <td>1.000000</td>\n",
       "    </tr>\n",
       "    <tr>\n",
       "      <th>4</th>\n",
       "      <td>0</td>\n",
       "      <td>4</td>\n",
       "      <td>1.000000</td>\n",
       "    </tr>\n",
       "  </tbody>\n",
       "</table>\n",
       "</div>"
      ],
      "text/plain": [
       "   Event  Track  TrackEfficiency\n",
       "0      0      0         0.888889\n",
       "1      0      1         0.888889\n",
       "2      0      2         0.888889\n",
       "3      0      3         1.000000\n",
       "4      0      4         1.000000"
      ]
     },
     "execution_count": 14,
     "metadata": {},
     "output_type": "execute_result"
    }
   ],
   "source": [
    "report_tracks.head()"
   ]
  },
  {
   "cell_type": "code",
   "execution_count": null,
   "metadata": {
    "collapsed": true
   },
   "outputs": [],
   "source": []
  }
 ],
 "metadata": {
  "kernelspec": {
   "display_name": "Python 2",
   "language": "python",
   "name": "python2"
  },
  "language_info": {
   "codemirror_mode": {
    "name": "ipython",
    "version": 2
   },
   "file_extension": ".py",
   "mimetype": "text/x-python",
   "name": "python",
   "nbconvert_exporter": "python",
   "pygments_lexer": "ipython2",
   "version": "2.7.11"
  }
 },
 "nbformat": 4,
 "nbformat_minor": 0
}
