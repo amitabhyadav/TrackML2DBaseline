{
 "cells": [
  {
   "cell_type": "code",
   "execution_count": 1,
   "metadata": {
    "collapsed": false
   },
   "outputs": [],
   "source": [
    "%matplotlib inline\n",
    "import matplotlib.pyplot as plt\n",
    "\n",
    "import pandas\n",
    "import numpy"
   ]
  },
  {
   "cell_type": "markdown",
   "metadata": {},
   "source": [
    "# Input data"
   ]
  },
  {
   "cell_type": "code",
   "execution_count": 2,
   "metadata": {
    "collapsed": false
   },
   "outputs": [
    {
     "data": {
      "text/html": [
       "<div>\n",
       "<table border=\"1\" class=\"dataframe\">\n",
       "  <thead>\n",
       "    <tr style=\"text-align: right;\">\n",
       "      <th></th>\n",
       "      <th>event</th>\n",
       "      <th>particle</th>\n",
       "      <th>layer</th>\n",
       "      <th>iphi</th>\n",
       "      <th>x</th>\n",
       "      <th>y</th>\n",
       "    </tr>\n",
       "  </thead>\n",
       "  <tbody>\n",
       "    <tr>\n",
       "      <th>0</th>\n",
       "      <td>0</td>\n",
       "      <td>0</td>\n",
       "      <td>5</td>\n",
       "      <td>39276</td>\n",
       "      <td>55.103343</td>\n",
       "      <td>-401.233874</td>\n",
       "    </tr>\n",
       "    <tr>\n",
       "      <th>1</th>\n",
       "      <td>0</td>\n",
       "      <td>6</td>\n",
       "      <td>5</td>\n",
       "      <td>22685</td>\n",
       "      <td>-381.682239</td>\n",
       "      <td>135.438799</td>\n",
       "    </tr>\n",
       "    <tr>\n",
       "      <th>2</th>\n",
       "      <td>0</td>\n",
       "      <td>3</td>\n",
       "      <td>3</td>\n",
       "      <td>6082</td>\n",
       "      <td>160.995866</td>\n",
       "      <td>139.460859</td>\n",
       "    </tr>\n",
       "    <tr>\n",
       "      <th>3</th>\n",
       "      <td>0</td>\n",
       "      <td>5</td>\n",
       "      <td>2</td>\n",
       "      <td>27787</td>\n",
       "      <td>-35.433651</td>\n",
       "      <td>-150.895515</td>\n",
       "    </tr>\n",
       "    <tr>\n",
       "      <th>4</th>\n",
       "      <td>0</td>\n",
       "      <td>5</td>\n",
       "      <td>1</td>\n",
       "      <td>15230</td>\n",
       "      <td>-19.627350</td>\n",
       "      <td>-82.702885</td>\n",
       "    </tr>\n",
       "  </tbody>\n",
       "</table>\n",
       "</div>"
      ],
      "text/plain": [
       "   event  particle  layer   iphi           x           y\n",
       "0      0         0      5  39276   55.103343 -401.233874\n",
       "1      0         6      5  22685 -381.682239  135.438799\n",
       "2      0         3      3   6082  160.995866  139.460859\n",
       "3      0         5      2  27787  -35.433651 -150.895515\n",
       "4      0         5      1  15230  -19.627350  -82.702885"
      ]
     },
     "execution_count": 2,
     "metadata": {},
     "output_type": "execute_result"
    }
   ],
   "source": [
    "data = pandas.read_csv('hits_1000.csv', index_col=False)\n",
    "#data = data[data.event.values < 100]\n",
    "\n",
    "data.head()"
   ]
  },
  {
   "cell_type": "markdown",
   "metadata": {},
   "source": [
    "# Hough Transform Modification"
   ]
  },
  {
   "cell_type": "code",
   "execution_count": 3,
   "metadata": {
    "collapsed": true
   },
   "outputs": [],
   "source": [
    "from hough import Hough\n",
    "from regression import TrackRegression\n",
    "\n",
    "class ModifiedHough(Hough):\n",
    "    \n",
    "    def new_track_inds(self, track_inds, n_hits):\n",
    "\n",
    "        used = numpy.zeros(n_hits)\n",
    "        new_track_inds = []\n",
    "\n",
    "\n",
    "        while 1:\n",
    "\n",
    "            track_lens = numpy.array([len(i[used[i] == 0]) for i in track_inds])\n",
    "            \n",
    "            if len(track_lens) == 0:\n",
    "                break\n",
    "                \n",
    "            max_len = track_lens.max()\n",
    "\n",
    "            if max_len < self.min_hits:\n",
    "                break\n",
    "\n",
    "            one_track_inds = track_inds[track_lens == track_lens.max()][0]\n",
    "            one_track_inds = one_track_inds[used[one_track_inds] == 0]\n",
    "\n",
    "            used[one_track_inds] = 1\n",
    "            new_track_inds.append(numpy.array(one_track_inds))\n",
    "\n",
    "        return numpy.array(new_track_inds)\n",
    "    \n",
    "    def new_track_params(self, track_inds, x, y):\n",
    "        \n",
    "        new_track_params = []\n",
    "        \n",
    "        for track in track_inds:\n",
    "            \n",
    "            tr = TrackRegression()\n",
    "            tr.fit(x[track], y[track])\n",
    "            \n",
    "            new_track_params.append([tr.theta_, tr.invr_])\n",
    "            \n",
    "        return numpy.array(new_track_params)\n",
    "\n",
    "    \n",
    "    def predict(self, x, y): # This method must be!\n",
    "        \n",
    "        Hough.predict(self, x, y)\n",
    "        \n",
    "        self.track_inds_ = self.new_track_inds(self.track_inds_, len(x)) # This attribute must be!\n",
    "        self.track_params_ = self.new_track_params(self.track_inds_, x, y) # This attribute is optional"
   ]
  },
  {
   "cell_type": "markdown",
   "metadata": {},
   "source": [
    "## One event"
   ]
  },
  {
   "cell_type": "code",
   "execution_count": 4,
   "metadata": {
    "collapsed": false
   },
   "outputs": [],
   "source": [
    "toy_event_id = 0\n",
    "event = data[data.event.values == toy_event_id]"
   ]
  },
  {
   "cell_type": "code",
   "execution_count": 5,
   "metadata": {
    "collapsed": false
   },
   "outputs": [],
   "source": [
    "from hough import Hough\n",
    "\n",
    "h = ModifiedHough(n_theta_bins=5000, n_radius_bins=1000, min_radius=20., min_hits=4)\n",
    "h.predict(event.x.values, event.y.values)\n",
    "\n",
    "matrix_hough = h.matrix_hough_\n",
    "track_inds = h.track_inds_\n",
    "track_params = h.track_params_"
   ]
  },
  {
   "cell_type": "code",
   "execution_count": 6,
   "metadata": {
    "collapsed": false
   },
   "outputs": [
    {
     "name": "stdout",
     "output_type": "stream",
     "text": [
      "List of tracks. A track is a list of hit indexes. One hit can belong to several recognized tracks.\n"
     ]
    },
    {
     "data": {
      "text/plain": [
       "array([array([ 3, 23, 29, 30, 32, 43, 53, 54]),\n",
       "       array([13, 19, 22, 28, 35, 48, 52]),\n",
       "       array([ 0,  9, 14, 26, 34, 38, 42]),\n",
       "       array([ 1, 11, 12, 20, 21, 27, 55]),\n",
       "       array([ 7,  8, 10, 37, 46, 47, 57]),\n",
       "       array([ 2,  5, 16, 36, 49, 56]), array([17, 33, 39, 45, 50])], dtype=object)"
      ]
     },
     "execution_count": 6,
     "metadata": {},
     "output_type": "execute_result"
    }
   ],
   "source": [
    "print \"List of tracks. A track is a list of hit indexes. One hit can belong to several recognized tracks.\"\n",
    "track_inds"
   ]
  },
  {
   "cell_type": "code",
   "execution_count": 7,
   "metadata": {
    "collapsed": false
   },
   "outputs": [
    {
     "data": {
      "image/png": "[encoded data removed]",
      "text/plain": [
       "<matplotlib.figure.Figure at 0x10fc20b10>"
      ]
     },
     "metadata": {},
     "output_type": "display_data"
    }
   ],
   "source": [
    "plt.figure(figsize=(8,8))\n",
    "plt.scatter(event.x.values, event.y.values)\n",
    "\n",
    "for track in track_inds:\n",
    "    \n",
    "    xs = event.x.values[track]\n",
    "    ys = event.y.values[track]\n",
    "    \n",
    "    sort_inds = xs.argsort()\n",
    "    \n",
    "    plt.plot(xs[sort_inds], ys[sort_inds])\n",
    "\n",
    "plt.title(\"Hits and Reconstructed Tracks\", size=15)\n",
    "plt.xlabel(\"x\", size=25)\n",
    "plt.ylabel(\"y\", size=25)\n",
    "plt.grid(b=1)\n",
    "plt.show()"
   ]
  },
  {
   "cell_type": "code",
   "execution_count": 8,
   "metadata": {
    "collapsed": false
   },
   "outputs": [
    {
     "data": {
      "text/plain": [
       "array([[  2.91554849e+00,   3.23393798e-05],\n",
       "       [  4.03442864e-01,   9.49837865e-05],\n",
       "       [  3.28913178e+00,   5.01199528e-05],\n",
       "       [  4.22717619e+00,   7.12402047e-04],\n",
       "       [ -6.75146625e-01,   3.50511306e-05],\n",
       "       [  2.27816506e+00,   5.16027327e-05],\n",
       "       [  3.00394622e+00,   2.05796746e-04]])"
      ]
     },
     "execution_count": 8,
     "metadata": {},
     "output_type": "execute_result"
    }
   ],
   "source": [
    "track_params"
   ]
  },
  {
   "cell_type": "markdown",
   "metadata": {
    "collapsed": true
   },
   "source": [
    "## Several events\n",
    "\n",
    "**TrackRecognizer** is used to recognize tracks in several events using a track pattern recognition method. The method should has the following structure:"
   ]
  },
  {
   "cell_type": "code",
   "execution_count": 9,
   "metadata": {
    "collapsed": true
   },
   "outputs": [],
   "source": [
    "class Method(object):\n",
    "    \n",
    "    def __init__(self, params):\n",
    "        \n",
    "        # You code\n",
    "        \n",
    "        pass\n",
    "    \n",
    "    def predict(self, x, y):\n",
    "        \n",
    "        # Your code\n",
    "        \n",
    "        self.track_inds_"
   ]
  },
  {
   "cell_type": "code",
   "execution_count": 10,
   "metadata": {
    "collapsed": false
   },
   "outputs": [
    {
     "data": {
      "text/html": [
       "<div>\n",
       "<table border=\"1\" class=\"dataframe\">\n",
       "  <thead>\n",
       "    <tr style=\"text-align: right;\">\n",
       "      <th></th>\n",
       "      <th>event</th>\n",
       "      <th>track</th>\n",
       "      <th>hit_index</th>\n",
       "      <th>x</th>\n",
       "      <th>y</th>\n",
       "    </tr>\n",
       "  </thead>\n",
       "  <tbody>\n",
       "    <tr>\n",
       "      <th>0</th>\n",
       "      <td>0</td>\n",
       "      <td>0</td>\n",
       "      <td>3</td>\n",
       "      <td>-35.433651</td>\n",
       "      <td>-150.895515</td>\n",
       "    </tr>\n",
       "    <tr>\n",
       "      <th>1</th>\n",
       "      <td>0</td>\n",
       "      <td>0</td>\n",
       "      <td>23</td>\n",
       "      <td>-237.993471</td>\n",
       "      <td>-971.266754</td>\n",
       "    </tr>\n",
       "    <tr>\n",
       "      <th>2</th>\n",
       "      <td>0</td>\n",
       "      <td>0</td>\n",
       "      <td>29</td>\n",
       "      <td>-178.767664</td>\n",
       "      <td>-740.733503</td>\n",
       "    </tr>\n",
       "    <tr>\n",
       "      <th>3</th>\n",
       "      <td>0</td>\n",
       "      <td>0</td>\n",
       "      <td>30</td>\n",
       "      <td>-242.167696</td>\n",
       "      <td>-970.234408</td>\n",
       "    </tr>\n",
       "    <tr>\n",
       "      <th>4</th>\n",
       "      <td>0</td>\n",
       "      <td>0</td>\n",
       "      <td>32</td>\n",
       "      <td>-93.036300</td>\n",
       "      <td>-394.169059</td>\n",
       "    </tr>\n",
       "  </tbody>\n",
       "</table>\n",
       "</div>"
      ],
      "text/plain": [
       "   event  track  hit_index           x           y\n",
       "0      0      0          3  -35.433651 -150.895515\n",
       "1      0      0         23 -237.993471 -971.266754\n",
       "2      0      0         29 -178.767664 -740.733503\n",
       "3      0      0         30 -242.167696 -970.234408\n",
       "4      0      0         32  -93.036300 -394.169059"
      ]
     },
     "execution_count": 10,
     "metadata": {},
     "output_type": "execute_result"
    }
   ],
   "source": [
    "from recognizer import TrackRecognizer\n",
    "\n",
    "method = ModifiedHough(n_theta_bins=5000, n_radius_bins=1000, min_radius=20., min_hits=4)\n",
    "\n",
    "tr = TrackRecognizer(method=method)\n",
    "results = tr.predict(data)\n",
    "\n",
    "results.head()"
   ]
  },
  {
   "cell_type": "markdown",
   "metadata": {},
   "source": [
    "## Quality metrics"
   ]
  },
  {
   "cell_type": "code",
   "execution_count": 11,
   "metadata": {
    "collapsed": false
   },
   "outputs": [],
   "source": [
    "from metrics import RecognitionQuality\n",
    "\n",
    "rq = RecognitionQuality(data, results, track_eff_threshold=0.8, min_hits_per_track=4)\n",
    "report_event, report_tracks = rq.calculate()"
   ]
  },
  {
   "cell_type": "code",
   "execution_count": 12,
   "metadata": {
    "collapsed": false
   },
   "outputs": [
    {
     "data": {
      "text/html": [
       "<div>\n",
       "<table border=\"1\" class=\"dataframe\">\n",
       "  <thead>\n",
       "    <tr style=\"text-align: right;\">\n",
       "      <th></th>\n",
       "      <th>Event</th>\n",
       "      <th>ReconstructionEfficiency</th>\n",
       "      <th>GhostRate</th>\n",
       "      <th>CloneRate</th>\n",
       "      <th>AvgTrackEfficiency</th>\n",
       "    </tr>\n",
       "  </thead>\n",
       "  <tbody>\n",
       "    <tr>\n",
       "      <th>0</th>\n",
       "      <td>0</td>\n",
       "      <td>1.000000</td>\n",
       "      <td>0.000000</td>\n",
       "      <td>0</td>\n",
       "      <td>0.982143</td>\n",
       "    </tr>\n",
       "    <tr>\n",
       "      <th>1</th>\n",
       "      <td>1</td>\n",
       "      <td>0.750000</td>\n",
       "      <td>0.166667</td>\n",
       "      <td>0</td>\n",
       "      <td>0.931818</td>\n",
       "    </tr>\n",
       "    <tr>\n",
       "      <th>2</th>\n",
       "      <td>2</td>\n",
       "      <td>0.800000</td>\n",
       "      <td>0.000000</td>\n",
       "      <td>0</td>\n",
       "      <td>1.000000</td>\n",
       "    </tr>\n",
       "    <tr>\n",
       "      <th>3</th>\n",
       "      <td>3</td>\n",
       "      <td>0.777778</td>\n",
       "      <td>0.111111</td>\n",
       "      <td>0</td>\n",
       "      <td>0.968750</td>\n",
       "    </tr>\n",
       "    <tr>\n",
       "      <th>4</th>\n",
       "      <td>4</td>\n",
       "      <td>0.875000</td>\n",
       "      <td>0.125000</td>\n",
       "      <td>0</td>\n",
       "      <td>0.972222</td>\n",
       "    </tr>\n",
       "  </tbody>\n",
       "</table>\n",
       "</div>"
      ],
      "text/plain": [
       "   Event  ReconstructionEfficiency  GhostRate  CloneRate  AvgTrackEfficiency\n",
       "0      0                  1.000000   0.000000          0            0.982143\n",
       "1      1                  0.750000   0.166667          0            0.931818\n",
       "2      2                  0.800000   0.000000          0            1.000000\n",
       "3      3                  0.777778   0.111111          0            0.968750\n",
       "4      4                  0.875000   0.125000          0            0.972222"
      ]
     },
     "execution_count": 12,
     "metadata": {},
     "output_type": "execute_result"
    }
   ],
   "source": [
    "report_event.head()"
   ]
  },
  {
   "cell_type": "code",
   "execution_count": 13,
   "metadata": {
    "collapsed": false
   },
   "outputs": [
    {
     "data": {
      "text/plain": [
       "Event                       499.500000\n",
       "ReconstructionEfficiency      0.920124\n",
       "GhostRate                     0.036922\n",
       "CloneRate                     0.000000\n",
       "AvgTrackEfficiency            0.976903\n",
       "dtype: float64"
      ]
     },
     "execution_count": 13,
     "metadata": {},
     "output_type": "execute_result"
    }
   ],
   "source": [
    "report_event.mean(axis=0)"
   ]
  },
  {
   "cell_type": "code",
   "execution_count": 14,
   "metadata": {
    "collapsed": false
   },
   "outputs": [
    {
     "data": {
      "text/html": [
       "<div>\n",
       "<table border=\"1\" class=\"dataframe\">\n",
       "  <thead>\n",
       "    <tr style=\"text-align: right;\">\n",
       "      <th></th>\n",
       "      <th>Event</th>\n",
       "      <th>Track</th>\n",
       "      <th>TrackEfficiency</th>\n",
       "    </tr>\n",
       "  </thead>\n",
       "  <tbody>\n",
       "    <tr>\n",
       "      <th>0</th>\n",
       "      <td>0</td>\n",
       "      <td>0</td>\n",
       "      <td>0.875</td>\n",
       "    </tr>\n",
       "    <tr>\n",
       "      <th>1</th>\n",
       "      <td>0</td>\n",
       "      <td>1</td>\n",
       "      <td>1.000</td>\n",
       "    </tr>\n",
       "    <tr>\n",
       "      <th>2</th>\n",
       "      <td>0</td>\n",
       "      <td>2</td>\n",
       "      <td>1.000</td>\n",
       "    </tr>\n",
       "    <tr>\n",
       "      <th>3</th>\n",
       "      <td>0</td>\n",
       "      <td>3</td>\n",
       "      <td>1.000</td>\n",
       "    </tr>\n",
       "    <tr>\n",
       "      <th>4</th>\n",
       "      <td>0</td>\n",
       "      <td>4</td>\n",
       "      <td>1.000</td>\n",
       "    </tr>\n",
       "  </tbody>\n",
       "</table>\n",
       "</div>"
      ],
      "text/plain": [
       "   Event  Track  TrackEfficiency\n",
       "0      0      0            0.875\n",
       "1      0      1            1.000\n",
       "2      0      2            1.000\n",
       "3      0      3            1.000\n",
       "4      0      4            1.000"
      ]
     },
     "execution_count": 14,
     "metadata": {},
     "output_type": "execute_result"
    }
   ],
   "source": [
    "report_tracks.head()"
   ]
  },
  {
   "cell_type": "code",
   "execution_count": null,
   "metadata": {
    "collapsed": true
   },
   "outputs": [],
   "source": []
  }
 ],
 "metadata": {
  "kernelspec": {
   "display_name": "Python 2",
   "language": "python",
   "name": "python2"
  },
  "language_info": {
   "codemirror_mode": {
    "name": "ipython",
    "version": 2
   },
   "file_extension": ".py",
   "mimetype": "text/x-python",
   "name": "python",
   "nbconvert_exporter": "python",
   "pygments_lexer": "ipython2",
   "version": "2.7.11"
  }
 },
 "nbformat": 4,
 "nbformat_minor": 0
}
